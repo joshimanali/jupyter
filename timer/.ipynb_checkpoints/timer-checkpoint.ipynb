{
 "cells": [
  {
   "cell_type": "code",
   "execution_count": 2,
   "metadata": {
    "collapsed": true
   },
   "outputs": [],
   "source": [
    "import webbrowser\n",
    "import time"
   ]
  },
  {
   "cell_type": "code",
   "execution_count": 27,
   "metadata": {},
   "outputs": [],
   "source": [
    "def get_breaks():\n",
    "    try:\n",
    "        num = int(input('How many breaks to check? '))\n",
    "        return num\n",
    "    except ValueError:\n",
    "        print('Invalid value! Enter an integer')       "
   ]
  },
  {
   "cell_type": "code",
   "execution_count": 12,
   "metadata": {
    "collapsed": true
   },
   "outputs": [],
   "source": [
    "path = 'https://www.youtube.com/watch?v=6P2nPI6CTlc'"
   ]
  },
  {
   "cell_type": "code",
   "execution_count": 29,
   "metadata": {},
   "outputs": [
    {
     "name": "stdout",
     "output_type": "stream",
     "text": [
      "How many breaks to check? 1\n",
      "This start on Sun Nov 12 14:11:12 2017\n"
     ]
    }
   ],
   "source": [
    "for i in range(get_breaks()): \n",
    "    print('This start on {}'.format(time.ctime()))\n",
    "    time.sleep(3)\n",
    "    webbrowser.open(path)\n",
    "    i+=1"
   ]
  }
 ],
 "metadata": {
  "kernelspec": {
   "display_name": "Python 3",
   "language": "python",
   "name": "python3"
  },
  "language_info": {
   "codemirror_mode": {
    "name": "ipython",
    "version": 3
   },
   "file_extension": ".py",
   "mimetype": "text/x-python",
   "name": "python",
   "nbconvert_exporter": "python",
   "pygments_lexer": "ipython3",
   "version": "3.6.3"
  }
 },
 "nbformat": 4,
 "nbformat_minor": 2
}
