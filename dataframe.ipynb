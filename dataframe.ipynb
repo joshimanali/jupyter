{
 "cells": [
  {
   "cell_type": "code",
   "execution_count": 40,
   "metadata": {
    "collapsed": false
   },
   "outputs": [
    {
     "name": "stdout",
     "output_type": "stream",
     "text": [
      "<class 'pandas.core.frame.DataFrame'>\n",
      "RangeIndex: 99 entries, 0 to 98\n",
      "Data columns (total 5 columns):\n",
      "Category         99 non-null object\n",
      "Title            99 non-null object\n",
      "Author           97 non-null object\n",
      "Abstract         99 non-null object\n",
      "Purchase Link    16 non-null object\n",
      "dtypes: object(5)\n",
      "memory usage: 3.9+ KB\n"
     ]
    },
    {
     "data": {
      "text/html": [
       "<div>\n",
       "<table border=\"1\" class=\"dataframe\">\n",
       "  <thead>\n",
       "    <tr style=\"text-align: right;\">\n",
       "      <th></th>\n",
       "      <th>Category</th>\n",
       "      <th>Title</th>\n",
       "      <th>Author</th>\n",
       "      <th>Abstract</th>\n",
       "      <th>Purchase Link</th>\n",
       "    </tr>\n",
       "  </thead>\n",
       "  <tbody>\n",
       "    <tr>\n",
       "      <th>0</th>\n",
       "      <td>Business</td>\n",
       "      <td>Articulating Design Decisions</td>\n",
       "      <td>Tom Greever</td>\n",
       "      <td>Principles, tactics, and actionable methods fo...</td>\n",
       "      <td>NaN</td>\n",
       "    </tr>\n",
       "    <tr>\n",
       "      <th>1</th>\n",
       "      <td>Business</td>\n",
       "      <td>Creativity, Inc.</td>\n",
       "      <td>Ed Catmull and Amy Wallace</td>\n",
       "      <td>Co-Founder of Pixar, Catmull writes for manage...</td>\n",
       "      <td>NaN</td>\n",
       "    </tr>\n",
       "    <tr>\n",
       "      <th>2</th>\n",
       "      <td>Business</td>\n",
       "      <td>Design is a Job</td>\n",
       "      <td>Mike Monteiro</td>\n",
       "      <td>This easy read explains how to build your busi...</td>\n",
       "      <td>NaN</td>\n",
       "    </tr>\n",
       "    <tr>\n",
       "      <th>3</th>\n",
       "      <td>Business</td>\n",
       "      <td>Drawn to Business</td>\n",
       "      <td>Bill Beachy of GoMedia.us</td>\n",
       "      <td>Beachy tells his story along with 15 others of...</td>\n",
       "      <td>NaN</td>\n",
       "    </tr>\n",
       "    <tr>\n",
       "      <th>4</th>\n",
       "      <td>Business</td>\n",
       "      <td>How Google Works</td>\n",
       "      <td>Jonathan Rosenberg and Eric Schmidt</td>\n",
       "      <td>Chocked full of skills and techniques on how G...</td>\n",
       "      <td>NaN</td>\n",
       "    </tr>\n",
       "  </tbody>\n",
       "</table>\n",
       "</div>"
      ],
      "text/plain": [
       "   Category                          Title  \\\n",
       "0  Business  Articulating Design Decisions   \n",
       "1  Business               Creativity, Inc.   \n",
       "2  Business                Design is a Job   \n",
       "3  Business              Drawn to Business   \n",
       "4  Business               How Google Works   \n",
       "\n",
       "                                Author  \\\n",
       "0                          Tom Greever   \n",
       "1           Ed Catmull and Amy Wallace   \n",
       "2                        Mike Monteiro   \n",
       "3            Bill Beachy of GoMedia.us   \n",
       "4  Jonathan Rosenberg and Eric Schmidt   \n",
       "\n",
       "                                            Abstract Purchase Link  \n",
       "0  Principles, tactics, and actionable methods fo...           NaN  \n",
       "1  Co-Founder of Pixar, Catmull writes for manage...           NaN  \n",
       "2  This easy read explains how to build your busi...           NaN  \n",
       "3  Beachy tells his story along with 15 others of...           NaN  \n",
       "4  Chocked full of skills and techniques on how G...           NaN  "
      ]
     },
     "execution_count": 40,
     "metadata": {},
     "output_type": "execute_result"
    }
   ],
   "source": [
    "import io, requests, pandas\n",
    "url = 'https://docs.google.com/spreadsheet/ccc?key=18sRqprZuDLqJNYU7HEp6emsvjXEGql7kwp0ieVK-muk&output=csv'\n",
    "r = requests.get(url)\n",
    "data = r.text\n",
    "df = pd.read_csv(StringIO(data), index_col=None, header=0)\n",
    "df.info()\n",
    "df.columns\n",
    "df.head()"
   ]
  },
  {
   "cell_type": "code",
   "execution_count": 41,
   "metadata": {
    "collapsed": false
   },
   "outputs": [
    {
     "data": {
      "text/html": [
       "<div>\n",
       "<table border=\"1\" class=\"dataframe\">\n",
       "  <thead>\n",
       "    <tr style=\"text-align: right;\">\n",
       "      <th></th>\n",
       "      <th>Category</th>\n",
       "      <th>Title</th>\n",
       "      <th>Author</th>\n",
       "      <th>Abstract</th>\n",
       "      <th>Purchase Link</th>\n",
       "    </tr>\n",
       "  </thead>\n",
       "  <tbody>\n",
       "    <tr>\n",
       "      <th>0</th>\n",
       "      <td>Business</td>\n",
       "      <td>Articulating Design Decisions</td>\n",
       "      <td>Tom Greever</td>\n",
       "      <td>Principles, tactics, and actionable methods fo...</td>\n",
       "      <td>NaN</td>\n",
       "    </tr>\n",
       "  </tbody>\n",
       "</table>\n",
       "</div>"
      ],
      "text/plain": [
       "   Category                          Title       Author  \\\n",
       "0  Business  Articulating Design Decisions  Tom Greever   \n",
       "\n",
       "                                            Abstract Purchase Link  \n",
       "0  Principles, tactics, and actionable methods fo...           NaN  "
      ]
     },
     "execution_count": 41,
     "metadata": {},
     "output_type": "execute_result"
    }
   ],
   "source": [
    "df1 = df[df['Author'] == 'Tom Greever']\n",
    "df1.head()"
   ]
  }
 ],
 "metadata": {
  "anaconda-cloud": {},
  "kernelspec": {
   "display_name": "Python [default]",
   "language": "python",
   "name": "python3"
  },
  "language_info": {
   "codemirror_mode": {
    "name": "ipython",
    "version": 3
   },
   "file_extension": ".py",
   "mimetype": "text/x-python",
   "name": "python",
   "nbconvert_exporter": "python",
   "pygments_lexer": "ipython3",
   "version": "3.5.3"
  }
 },
 "nbformat": 4,
 "nbformat_minor": 1
}
