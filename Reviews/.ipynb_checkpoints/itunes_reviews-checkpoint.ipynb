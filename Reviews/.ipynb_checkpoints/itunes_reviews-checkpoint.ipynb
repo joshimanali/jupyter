{
 "cells": [
  {
   "cell_type": "code",
   "execution_count": 2,
   "metadata": {
    "collapsed": false,
    "deletable": true,
    "editable": true
   },
   "outputs": [],
   "source": [
    "import requests, json \n",
    "\n",
    "def reviews(url):\n",
    "    r = requests.get(url)\n",
    "    print(\"Status: \", r.status_code)\n",
    "    data = json.loads(r.text)\n",
    "    for item in data['feed']['entry']:\n",
    "        try:\n",
    "            rating = item.get('im:rating').get('label')\n",
    "            if int(rating) <=3:\n",
    "                print(\"Rating: \", rating, '\\n'\n",
    "                     \"Review: \", item.get('content').get('label'), '\\n'\n",
    "                     '======',)\n",
    "        except: \n",
    "            print('No entry!', '\\n'\n",
    "                 '=====')\n",
    "\n",
    "url_list = ['https://itunes.apple.com/sg/rss/customerreviews/id=482524585/json', \n",
    "            'https://itunes.apple.com/my/rss/customerreviews/id=487538098/json',\n",
    "            'https://itunes.apple.com/th/rss/customerreviews/id=487558434/json',\n",
    "            'https://itunes.apple.com/id/rss/customerreviews/id=487554800/json']\n",
    "\n",
    "    "
   ]
  },
  {
   "cell_type": "code",
   "execution_count": null,
   "metadata": {
    "collapsed": true
   },
   "outputs": [],
   "source": [
    "for url in url_list:\n",
    "    reviews(url)"
   ]
  },
  {
   "cell_type": "code",
   "execution_count": 60,
   "metadata": {
    "collapsed": false
   },
   "outputs": [],
   "source": [
    "# Pretty print\n",
    "# print(json.dumps(data, indent=4, sort_keys=True))"
   ]
  },
  {
   "cell_type": "code",
   "execution_count": 99,
   "metadata": {
    "collapsed": false
   },
   "outputs": [
    {
     "name": "stdout",
     "output_type": "stream",
     "text": [
      "4 19\n"
     ]
    }
   ],
   "source": [
    "url = 'https://itunes.apple.com/sg/rss/topfreeapplications/limit=100/genre=6012/json'\n",
    "r = requests.get(url)\n",
    "data = json.loads(r.text)\n",
    "\n",
    "sg_list = [i['im:name']['label'] for i in data['feed']['entry']]\n",
    "print(sg_list.index('PropertyGuru Singapore'), sg_list.index('99.co'))"
   ]
  },
  {
   "cell_type": "code",
   "execution_count": 88,
   "metadata": {
    "collapsed": false
   },
   "outputs": [
    {
     "name": "stdout",
     "output_type": "stream",
     "text": [
      "14\n"
     ]
    }
   ],
   "source": [
    "url = 'https://itunes.apple.com/my/rss/topfreeapplications/limit=100/genre=6012/json'\n",
    "r = requests.get(url)\n",
    "data = json.loads(r.text)\n",
    "\n",
    "my_list = [i['im:name']['label'] for i in data['feed']['entry']]\n",
    "print(my_list.index('PropertyGuru Malaysia'))"
   ]
  },
  {
   "cell_type": "code",
   "execution_count": 93,
   "metadata": {
    "collapsed": false
   },
   "outputs": [
    {
     "name": "stdout",
     "output_type": "stream",
     "text": [
      "25\n"
     ]
    }
   ],
   "source": [
    "url = 'https://itunes.apple.com/id/rss/topfreeapplications/limit=100/genre=6012/json'\n",
    "r = requests.get(url)\n",
    "data = json.loads(r.text)\n",
    "\n",
    "my_list = [i['im:name']['label'] for i in data['feed']['entry']]\n",
    "print(my_list.index('Rumah.com'))"
   ]
  },
  {
   "cell_type": "code",
   "execution_count": 95,
   "metadata": {
    "collapsed": false
   },
   "outputs": [
    {
     "name": "stdout",
     "output_type": "stream",
     "text": [
      "30\n"
     ]
    }
   ],
   "source": [
    "url = 'https://itunes.apple.com/th/rss/topfreeapplications/limit=100/genre=6012/json'\n",
    "r = requests.get(url)\n",
    "data = json.loads(r.text)\n",
    "\n",
    "my_list = [i['im:name']['label'] for i in data['feed']['entry']]\n",
    "print(my_list.index('DDproperty Thailand'))"
   ]
  }
 ],
 "metadata": {
  "anaconda-cloud": {},
  "kernelspec": {
   "display_name": "Python 3",
   "language": "python",
   "name": "python3"
  },
  "language_info": {
   "codemirror_mode": {
    "name": "ipython",
    "version": 3
   },
   "file_extension": ".py",
   "mimetype": "text/x-python",
   "name": "python",
   "nbconvert_exporter": "python",
   "pygments_lexer": "ipython3",
   "version": "3.5.2"
  }
 },
 "nbformat": 4,
 "nbformat_minor": 1
}
