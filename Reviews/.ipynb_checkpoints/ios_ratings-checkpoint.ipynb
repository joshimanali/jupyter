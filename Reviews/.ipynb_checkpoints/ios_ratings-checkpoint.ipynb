{
 "cells": [
  {
   "cell_type": "code",
   "execution_count": 101,
   "metadata": {
    "collapsed": false,
    "deletable": true,
    "editable": true,
    "scrolled": true
   },
   "outputs": [],
   "source": [
    "import requests, json, pandas as pd\n",
    "from pandas.io.json import json_normalize\n",
    "\n",
    "base_url = \"https://api.appannie.com/v1.2/apps/ios/app/\"\n",
    "app_id = [482524585, 487538098]\n",
    "\n",
    "querystring = {\"page_index\":\"0\"}\n",
    "headers = {\n",
    "    'authorization': \"bearer api-key\",\n",
    "    'cache-control': \"no-cache\",\n",
    "    }\n",
    "\n",
    "def construct_url(app_id): \n",
    "    url = base_url + str(app_id) + \"/ratings\"\n",
    "    return url\n",
    "\n",
    "def query(url):\n",
    "    response = requests.request(\"GET\", url, headers=headers, params=querystring)        \n",
    "    return response.text\n",
    "\n",
    "def flatten_json(y):\n",
    "    out = {}\n",
    "\n",
    "    def flatten(x, name=''):\n",
    "        if type(x) is dict:\n",
    "            for a in x:\n",
    "                flatten(x[a], name + a + '_')\n",
    "        elif type(x) is list:\n",
    "            i = 0\n",
    "            for a in x:\n",
    "                flatten(a, name + str(i) + '_')\n",
    "                i += 1\n",
    "        else:\n",
    "            out[name[:-1]] = x\n",
    "\n",
    "    flatten(y)\n",
    "    return out\n",
    "\n",
    "    "
   ]
  },
  {
   "cell_type": "code",
   "execution_count": 116,
   "metadata": {
    "collapsed": false
   },
   "outputs": [
    {
     "name": "stdout",
     "output_type": "stream",
     "text": [
      "['code', 'next_page', 'page_index', 'page_num', 'prev_page', 'product_name', 'ratings_0_all_ratings_average', 'ratings_0_all_ratings_rating_count', 'ratings_0_all_ratings_star_1_count', 'ratings_0_all_ratings_star_2_count', 'ratings_0_all_ratings_star_3_count', 'ratings_0_all_ratings_star_4_count', 'ratings_0_all_ratings_star_5_count', 'ratings_0_country', 'ratings_0_current_ratings_average', 'ratings_0_current_ratings_rating_count', 'ratings_0_current_ratings_star_1_count', 'ratings_0_current_ratings_star_2_count', 'ratings_0_current_ratings_star_3_count', 'ratings_0_current_ratings_star_4_count', 'ratings_0_current_ratings_star_5_count', 'ratings_1_all_ratings_average', 'ratings_1_all_ratings_rating_count', 'ratings_1_all_ratings_star_1_count', 'ratings_1_all_ratings_star_2_count', 'ratings_1_all_ratings_star_3_count', 'ratings_1_all_ratings_star_4_count', 'ratings_1_all_ratings_star_5_count', 'ratings_1_country', 'ratings_1_current_ratings_average', 'ratings_1_current_ratings_rating_count', 'ratings_1_current_ratings_star_1_count', 'ratings_1_current_ratings_star_2_count', 'ratings_1_current_ratings_star_3_count', 'ratings_1_current_ratings_star_4_count', 'ratings_1_current_ratings_star_5_count', 'ratings_2_all_ratings_average', 'ratings_2_all_ratings_rating_count', 'ratings_2_all_ratings_star_1_count', 'ratings_2_all_ratings_star_2_count', 'ratings_2_all_ratings_star_3_count', 'ratings_2_all_ratings_star_4_count', 'ratings_2_all_ratings_star_5_count', 'ratings_2_country', 'ratings_2_current_ratings_average', 'ratings_2_current_ratings_rating_count', 'ratings_2_current_ratings_star_1_count', 'ratings_2_current_ratings_star_2_count', 'ratings_2_current_ratings_star_3_count', 'ratings_2_current_ratings_star_4_count', 'ratings_2_current_ratings_star_5_count', 'ratings_3_all_ratings_average', 'ratings_3_all_ratings_rating_count', 'ratings_3_all_ratings_star_1_count', 'ratings_3_all_ratings_star_2_count', 'ratings_3_all_ratings_star_3_count', 'ratings_3_all_ratings_star_4_count', 'ratings_3_all_ratings_star_5_count', 'ratings_3_country', 'ratings_3_current_ratings_average', 'ratings_3_current_ratings_rating_count', 'ratings_3_current_ratings_star_1_count', 'ratings_3_current_ratings_star_2_count', 'ratings_3_current_ratings_star_3_count', 'ratings_3_current_ratings_star_4_count', 'ratings_3_current_ratings_star_5_count', 'ratings_4_all_ratings_average', 'ratings_4_all_ratings_rating_count', 'ratings_4_all_ratings_star_1_count', 'ratings_4_all_ratings_star_2_count', 'ratings_4_all_ratings_star_3_count', 'ratings_4_all_ratings_star_4_count', 'ratings_4_all_ratings_star_5_count', 'ratings_4_country', 'ratings_4_current_ratings_average', 'ratings_4_current_ratings_rating_count', 'ratings_4_current_ratings_star_1_count', 'ratings_4_current_ratings_star_2_count', 'ratings_4_current_ratings_star_3_count', 'ratings_4_current_ratings_star_4_count', 'ratings_4_current_ratings_star_5_count', 'ratings_5_all_ratings_average', 'ratings_5_all_ratings_rating_count', 'ratings_5_all_ratings_star_1_count', 'ratings_5_all_ratings_star_2_count', 'ratings_5_all_ratings_star_3_count', 'ratings_5_all_ratings_star_4_count', 'ratings_5_all_ratings_star_5_count', 'ratings_5_country', 'ratings_5_current_ratings_average', 'ratings_5_current_ratings_rating_count', 'ratings_5_current_ratings_star_1_count', 'ratings_5_current_ratings_star_2_count', 'ratings_5_current_ratings_star_3_count', 'ratings_5_current_ratings_star_4_count', 'ratings_5_current_ratings_star_5_count', 'ratings_6_all_ratings_average', 'ratings_6_all_ratings_rating_count', 'ratings_6_all_ratings_star_1_count', 'ratings_6_all_ratings_star_2_count', 'ratings_6_all_ratings_star_3_count', 'ratings_6_all_ratings_star_4_count', 'ratings_6_all_ratings_star_5_count', 'ratings_6_country', 'ratings_6_current_ratings_average', 'ratings_6_current_ratings_rating_count', 'ratings_6_current_ratings_star_1_count', 'ratings_6_current_ratings_star_2_count', 'ratings_6_current_ratings_star_3_count', 'ratings_6_current_ratings_star_4_count', 'ratings_6_current_ratings_star_5_count']\n",
      "['code', 'next_page', 'page_index', 'page_num', 'prev_page', 'product_name', 'ratings_0_all_ratings_average', 'ratings_0_all_ratings_rating_count', 'ratings_0_all_ratings_star_1_count', 'ratings_0_all_ratings_star_2_count', 'ratings_0_all_ratings_star_3_count', 'ratings_0_all_ratings_star_4_count', 'ratings_0_all_ratings_star_5_count', 'ratings_0_country', 'ratings_0_current_ratings_average', 'ratings_0_current_ratings_rating_count', 'ratings_0_current_ratings_star_1_count', 'ratings_0_current_ratings_star_2_count', 'ratings_0_current_ratings_star_3_count', 'ratings_0_current_ratings_star_4_count', 'ratings_0_current_ratings_star_5_count', 'ratings_1_all_ratings_average', 'ratings_1_all_ratings_rating_count', 'ratings_1_all_ratings_star_1_count', 'ratings_1_all_ratings_star_2_count', 'ratings_1_all_ratings_star_3_count', 'ratings_1_all_ratings_star_4_count', 'ratings_1_all_ratings_star_5_count', 'ratings_1_country', 'ratings_1_current_ratings_average', 'ratings_1_current_ratings_rating_count', 'ratings_1_current_ratings_star_1_count', 'ratings_1_current_ratings_star_2_count', 'ratings_1_current_ratings_star_3_count', 'ratings_1_current_ratings_star_4_count', 'ratings_1_current_ratings_star_5_count']\n"
     ]
    }
   ],
   "source": [
    "counter = 0\n",
    "for i in app_id: \n",
    "    raw = query(construct_url(i))\n",
    "    flat = flatten_json(json.loads(raw))\n",
    "    df = json_normalize(flat)\n",
    "    if counter == 0:\n",
    "        col_names = list(df.columns)\n",
    "        print(col_names)\n",
    "    else:\n",
    "        df.columns = col_names\n",
    "#     df.to_csv('./data.csv', append= True)\n",
    "#     counter += 1"
   ]
  },
  {
   "cell_type": "code",
   "execution_count": 71,
   "metadata": {
    "collapsed": false
   },
   "outputs": [
    {
     "data": {
      "text/html": [
       "<div>\n",
       "<table border=\"1\" class=\"dataframe\">\n",
       "  <thead>\n",
       "    <tr style=\"text-align: right;\">\n",
       "      <th></th>\n",
       "      <th>0_code</th>\n",
       "      <th>0_next_page</th>\n",
       "      <th>0_page_index</th>\n",
       "      <th>0_page_num</th>\n",
       "      <th>0_prev_page</th>\n",
       "      <th>0_product_name</th>\n",
       "      <th>0_ratings_0_all_ratings_average</th>\n",
       "      <th>0_ratings_0_all_ratings_rating_count</th>\n",
       "      <th>0_ratings_0_all_ratings_star_1_count</th>\n",
       "      <th>0_ratings_0_all_ratings_star_2_count</th>\n",
       "      <th>...</th>\n",
       "      <th>1_ratings_1_all_ratings_star_4_count</th>\n",
       "      <th>1_ratings_1_all_ratings_star_5_count</th>\n",
       "      <th>1_ratings_1_country</th>\n",
       "      <th>1_ratings_1_current_ratings_average</th>\n",
       "      <th>1_ratings_1_current_ratings_rating_count</th>\n",
       "      <th>1_ratings_1_current_ratings_star_1_count</th>\n",
       "      <th>1_ratings_1_current_ratings_star_2_count</th>\n",
       "      <th>1_ratings_1_current_ratings_star_3_count</th>\n",
       "      <th>1_ratings_1_current_ratings_star_4_count</th>\n",
       "      <th>1_ratings_1_current_ratings_star_5_count</th>\n",
       "    </tr>\n",
       "  </thead>\n",
       "  <tbody>\n",
       "    <tr>\n",
       "      <th>0</th>\n",
       "      <td>200</td>\n",
       "      <td>None</td>\n",
       "      <td>0</td>\n",
       "      <td>1</td>\n",
       "      <td>None</td>\n",
       "      <td>PropertyGuru Singapore</td>\n",
       "      <td>2.5</td>\n",
       "      <td>13</td>\n",
       "      <td>8</td>\n",
       "      <td>0</td>\n",
       "      <td>...</td>\n",
       "      <td>1</td>\n",
       "      <td>11</td>\n",
       "      <td>SG</td>\n",
       "      <td>4.0</td>\n",
       "      <td>17</td>\n",
       "      <td>2</td>\n",
       "      <td>2</td>\n",
       "      <td>1</td>\n",
       "      <td>1</td>\n",
       "      <td>11</td>\n",
       "    </tr>\n",
       "  </tbody>\n",
       "</table>\n",
       "<p>1 rows × 147 columns</p>\n",
       "</div>"
      ],
      "text/plain": [
       "   0_code 0_next_page  0_page_index  0_page_num 0_prev_page  \\\n",
       "0     200        None             0           1        None   \n",
       "\n",
       "           0_product_name  0_ratings_0_all_ratings_average  \\\n",
       "0  PropertyGuru Singapore                              2.5   \n",
       "\n",
       "   0_ratings_0_all_ratings_rating_count  0_ratings_0_all_ratings_star_1_count  \\\n",
       "0                                    13                                     8   \n",
       "\n",
       "   0_ratings_0_all_ratings_star_2_count  \\\n",
       "0                                     0   \n",
       "\n",
       "                    ...                     \\\n",
       "0                   ...                      \n",
       "\n",
       "   1_ratings_1_all_ratings_star_4_count  1_ratings_1_all_ratings_star_5_count  \\\n",
       "0                                     1                                    11   \n",
       "\n",
       "   1_ratings_1_country 1_ratings_1_current_ratings_average  \\\n",
       "0                   SG                                 4.0   \n",
       "\n",
       "  1_ratings_1_current_ratings_rating_count  \\\n",
       "0                                       17   \n",
       "\n",
       "  1_ratings_1_current_ratings_star_1_count  \\\n",
       "0                                        2   \n",
       "\n",
       "  1_ratings_1_current_ratings_star_2_count  \\\n",
       "0                                        2   \n",
       "\n",
       "  1_ratings_1_current_ratings_star_3_count  \\\n",
       "0                                        1   \n",
       "\n",
       "  1_ratings_1_current_ratings_star_4_count  \\\n",
       "0                                        1   \n",
       "\n",
       "  1_ratings_1_current_ratings_star_5_count  \n",
       "0                                       11  \n",
       "\n",
       "[1 rows x 147 columns]"
      ]
     },
     "execution_count": 71,
     "metadata": {},
     "output_type": "execute_result"
    }
   ],
   "source": [
    "json_normalize(flat)"
   ]
  }
 ],
 "metadata": {
  "anaconda-cloud": {},
  "kernelspec": {
   "display_name": "Python 3",
   "language": "python",
   "name": "python3"
  },
  "language_info": {
   "codemirror_mode": {
    "name": "ipython",
    "version": 3
   },
   "file_extension": ".py",
   "mimetype": "text/x-python",
   "name": "python",
   "nbconvert_exporter": "python",
   "pygments_lexer": "ipython3",
   "version": "3.5.2"
  }
 },
 "nbformat": 4,
 "nbformat_minor": 1
}
