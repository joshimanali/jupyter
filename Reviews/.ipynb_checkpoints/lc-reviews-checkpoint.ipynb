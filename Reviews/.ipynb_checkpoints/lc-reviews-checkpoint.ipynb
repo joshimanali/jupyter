{
 "cells": [
  {
   "cell_type": "code",
   "execution_count": 1,
   "metadata": {
    "collapsed": false,
    "deletable": true,
    "editable": true
   },
   "outputs": [
    {
     "name": "stdout",
     "output_type": "stream",
     "text": [
      "<class 'pandas.core.frame.DataFrame'>\n",
      "RangeIndex: 1680 entries, 0 to 1679\n",
      "Data columns (total 2 columns):\n",
      "id         1680 non-null int64\n",
      "ratings    1680 non-null object\n",
      "dtypes: int64(1), object(1)\n",
      "memory usage: 26.3+ KB\n",
      "None\n",
      "      id ratings\n",
      "0  19298       5\n",
      "1  19299       5\n",
      "2  19301       5\n",
      "3  19302       5\n",
      "4  19303       5\n",
      "\n",
      "The avg. rating for 1664 ratings is 3.93\n"
     ]
    }
   ],
   "source": [
    "import pandas as pd\n",
    "\n",
    "data = pd.read_csv('lc_feedback.csv', header=0, index_col=None)\n",
    "print(data.info())\n",
    "print(data.head())\n",
    "\n",
    "df = pd.to_numeric(data['ratings'], errors='coerce') \n",
    "print('\\nThe avg. rating for', df.count(), 'ratings is' ,round(df.mean(),2))\n"
   ]
  },
  {
   "cell_type": "code",
   "execution_count": null,
   "metadata": {
    "collapsed": true,
    "deletable": true,
    "editable": true
   },
   "outputs": [],
   "source": []
  }
 ],
 "metadata": {
  "anaconda-cloud": {},
  "kernelspec": {
   "display_name": "Python [default]",
   "language": "python",
   "name": "python3"
  },
  "language_info": {
   "codemirror_mode": {
    "name": "ipython",
    "version": 3
   },
   "file_extension": ".py",
   "mimetype": "text/x-python",
   "name": "python",
   "nbconvert_exporter": "python",
   "pygments_lexer": "ipython3",
   "version": "3.5.2"
  }
 },
 "nbformat": 4,
 "nbformat_minor": 1
}
