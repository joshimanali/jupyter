{
 "cells": [
  {
   "cell_type": "code",
   "execution_count": 28,
   "metadata": {
    "collapsed": false
   },
   "outputs": [
    {
     "data": {
      "text/html": [
       "<div>\n",
       "<table border=\"1\" class=\"dataframe\">\n",
       "  <thead>\n",
       "    <tr style=\"text-align: right;\">\n",
       "      <th></th>\n",
       "      <th>name</th>\n",
       "      <th>handedness</th>\n",
       "      <th>height</th>\n",
       "      <th>weight</th>\n",
       "      <th>avg</th>\n",
       "      <th>HR</th>\n",
       "    </tr>\n",
       "  </thead>\n",
       "  <tbody>\n",
       "    <tr>\n",
       "      <th>0</th>\n",
       "      <td>Brandon Hyde</td>\n",
       "      <td>R</td>\n",
       "      <td>75</td>\n",
       "      <td>210</td>\n",
       "      <td>0.000</td>\n",
       "      <td>0</td>\n",
       "    </tr>\n",
       "    <tr>\n",
       "      <th>1</th>\n",
       "      <td>Carey Selph</td>\n",
       "      <td>R</td>\n",
       "      <td>69</td>\n",
       "      <td>175</td>\n",
       "      <td>0.277</td>\n",
       "      <td>0</td>\n",
       "    </tr>\n",
       "    <tr>\n",
       "      <th>2</th>\n",
       "      <td>Philip Nastu</td>\n",
       "      <td>L</td>\n",
       "      <td>74</td>\n",
       "      <td>180</td>\n",
       "      <td>0.040</td>\n",
       "      <td>0</td>\n",
       "    </tr>\n",
       "    <tr>\n",
       "      <th>3</th>\n",
       "      <td>Kent Hrbek</td>\n",
       "      <td>L</td>\n",
       "      <td>76</td>\n",
       "      <td>200</td>\n",
       "      <td>0.282</td>\n",
       "      <td>293</td>\n",
       "    </tr>\n",
       "    <tr>\n",
       "      <th>4</th>\n",
       "      <td>Bill Risley</td>\n",
       "      <td>R</td>\n",
       "      <td>74</td>\n",
       "      <td>215</td>\n",
       "      <td>0.000</td>\n",
       "      <td>0</td>\n",
       "    </tr>\n",
       "  </tbody>\n",
       "</table>\n",
       "</div>"
      ],
      "text/plain": [
       "           name handedness height weight    avg   HR\n",
       "0  Brandon Hyde          R     75    210  0.000    0\n",
       "1   Carey Selph          R     69    175  0.277    0\n",
       "2  Philip Nastu          L     74    180  0.040    0\n",
       "3    Kent Hrbek          L     76    200  0.282  293\n",
       "4   Bill Risley          R     74    215  0.000    0"
      ]
     },
     "execution_count": 28,
     "metadata": {},
     "output_type": "execute_result"
    }
   ],
   "source": [
    "import pandas as pd \n",
    "\n",
    "df = pd.read_csv('baseball_stats.csv')\n",
    "df.head()"
   ]
  },
  {
   "cell_type": "code",
   "execution_count": 29,
   "metadata": {
    "collapsed": false
   },
   "outputs": [
    {
     "name": "stdout",
     "output_type": "stream",
     "text": [
      "<class 'pandas.core.frame.DataFrame'>\n",
      "RangeIndex: 18177 entries, 0 to 18176\n",
      "Data columns (total 6 columns):\n",
      "name          18177 non-null object\n",
      "handedness    16974 non-null object\n",
      "height        18177 non-null object\n",
      "weight        18177 non-null object\n",
      "avg           18177 non-null float64\n",
      "HR            18177 non-null int64\n",
      "dtypes: float64(1), int64(1), object(4)\n",
      "memory usage: 852.1+ KB\n"
     ]
    }
   ],
   "source": [
    "df.info()"
   ]
  },
  {
   "cell_type": "code",
   "execution_count": 58,
   "metadata": {
    "collapsed": false
   },
   "outputs": [
    {
     "name": "stdout",
     "output_type": "stream",
     "text": [
      "<class 'pandas.core.frame.DataFrame'>\n",
      "RangeIndex: 18177 entries, 0 to 18176\n",
      "Data columns (total 2 columns):\n",
      "height    17429 non-null float64\n",
      "weight    17380 non-null float64\n",
      "dtypes: float64(2)\n",
      "memory usage: 284.1 KB\n"
     ]
    }
   ],
   "source": [
    "df[['height','weight']] = df[['height','weight']].apply(pd.to_numeric, errors='coerce') \n",
    "df[['height','weight']].info()"
   ]
  },
  {
   "cell_type": "code",
   "execution_count": 59,
   "metadata": {
    "collapsed": false
   },
   "outputs": [],
   "source": [
    "left = df[df['handedness']=='L']\n",
    "right = df[df['handedness']=='R']"
   ]
  },
  {
   "cell_type": "code",
   "execution_count": 60,
   "metadata": {
    "collapsed": false
   },
   "outputs": [
    {
     "name": "stdout",
     "output_type": "stream",
     "text": [
      "9.76699469147 reject Ho, there's indeed satisitically significant differences in left- and right-handers' batting avg\n"
     ]
    }
   ],
   "source": [
    "from scipy.stats import ttest_ind\n",
    "\n",
    "#batting avg. and handedness \n",
    "t, p = ttest_ind(left['avg'],right['avg']) \n",
    "if p < 0.05:\n",
    "    print(t, \"reject Ho, there's indeed satisitically significant differences in left- and right-handers' batting avg\")\n",
    "else:\n",
    "    print(t, \"retain Ho, no significant differnces\")"
   ]
  },
  {
   "cell_type": "code",
   "execution_count": 61,
   "metadata": {
    "collapsed": false
   },
   "outputs": [
    {
     "name": "stdout",
     "output_type": "stream",
     "text": [
      "True 0.85\n",
      "True 0.83\n"
     ]
    },
    {
     "name": "stderr",
     "output_type": "stream",
     "text": [
      "C:\\Users\\Ken Tran\\Anaconda3\\lib\\site-packages\\scipy\\stats\\morestats.py:1326: UserWarning: p-value may not be accurate for N > 5000.\n",
      "  warnings.warn(\"p-value may not be accurate for N > 5000.\")\n"
     ]
    }
   ],
   "source": [
    "#shapiro-wilk tests\n",
    "from scipy.stats import shapiro\n",
    "samples = [left, right]\n",
    "for item in samples:\n",
    "    w, p = shapiro(item['avg']) \n",
    "    if p < 0.05:\n",
    "        print(True, round(w,2))"
   ]
  },
  {
   "cell_type": "code",
   "execution_count": 67,
   "metadata": {
    "collapsed": false
   },
   "outputs": [
    {
     "name": "stdout",
     "output_type": "stream",
     "text": [
      "0.691339095025 0.0\n"
     ]
    }
   ],
   "source": [
    "#correlation of height and weight\n",
    "from scipy.stats import pearsonr\n",
    "r, p = pearsonr(df['height'].fillna(df['height'].mean()), df['weight'].fillna(df['weight'].mean()))\n",
    "print(r, p)"
   ]
  },
  {
   "cell_type": "code",
   "execution_count": 71,
   "metadata": {
    "collapsed": false
   },
   "outputs": [
    {
     "name": "stdout",
     "output_type": "stream",
     "text": [
      "-0.210066180715 2.15173166847e-180\n"
     ]
    }
   ],
   "source": [
    "r, p = pearsonr(df['height'].fillna(df['height'].mean()), df['avg'])\n",
    "print(r, p)"
   ]
  },
  {
   "cell_type": "code",
   "execution_count": 69,
   "metadata": {
    "collapsed": false
   },
   "outputs": [
    {
     "name": "stdout",
     "output_type": "stream",
     "text": [
      "-0.134703788632 2.35199878656e-74\n"
     ]
    }
   ],
   "source": [
    "r, p = pearsonr(df['weight'].fillna(df['weight'].mean()), df['avg'])\n",
    "print(r, p)"
   ]
  }
 ],
 "metadata": {
  "anaconda-cloud": {},
  "kernelspec": {
   "display_name": "Python 3",
   "language": "python",
   "name": "python3"
  },
  "language_info": {
   "codemirror_mode": {
    "name": "ipython",
    "version": 3
   },
   "file_extension": ".py",
   "mimetype": "text/x-python",
   "name": "python",
   "nbconvert_exporter": "python",
   "pygments_lexer": "ipython3",
   "version": "3.5.2"
  }
 },
 "nbformat": 4,
 "nbformat_minor": 1
}
