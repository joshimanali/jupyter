{
 "cells": [
  {
   "cell_type": "markdown",
   "metadata": {},
   "source": [
    "import tweepy\n",
    "import csv\n",
    "import pandas as pd"
   ]
  },
  {
   "cell_type": "code",
   "execution_count": 2,
   "metadata": {
    "collapsed": true
   },
   "outputs": [],
   "source": [
    "# credentials \n",
    "consumer_key = 'RfVrJoZv5kk6v6P5z0QceJIas'\n",
    "consumer_secret = 'UWtGgDvzdHlnNp6IUSX2vlh0ABZrZwQ1qpqar7ZCvHPXzW2gMf'\n",
    "access_token = '1779951-vzEgzXhGEo5jGZyfixSgJbkZgasMoH7d7QcmTaSkaN'\n",
    "access_token_secret = '0UY9YVko1qVgbXF3izH3BebzA5OSEbS9VUR3lqSjpUcRE'"
   ]
  },
  {
   "cell_type": "markdown",
   "metadata": {},
   "source": [
    "auth = tweepy.OAuthHandler(consumer_key, consumer_secret)\n",
    "auth.set_access_token(access_token, access_token_secret)\n",
    "api = tweepy.API(auth,wait_on_rate_limit=True)"
   ]
  },
  {
   "cell_type": "code",
   "execution_count": null,
   "metadata": {
    "collapsed": true
   },
   "outputs": [],
   "source": [
    "csvFile = open('sk.csv', 'a')\n",
    "csvWriter = csv.writer(csvFile)"
   ]
  },
  {
   "cell_type": "code",
   "execution_count": null,
   "metadata": {
    "collapsed": true
   },
   "outputs": [],
   "source": [
    "for tweet in tweepy.Cursor(api.search,q=\"#smartkarma\",\n",
    "                           count=100,\n",
    "                           lang=\"en\",\n",
    "                           since=\"2017-01-01\").items():\n",
    "    print (tweet.created_at, tweet.text)\n",
    "    csvWriter.writerow([tweet.created_at, tweet.text.encode('utf-8')])"
   ]
  }
 ],
 "metadata": {
  "kernelspec": {
   "display_name": "Python 3",
   "language": "python",
   "name": "python3"
  },
  "language_info": {
   "codemirror_mode": {
    "name": "ipython",
    "version": 3
   },
   "file_extension": ".py",
   "mimetype": "text/x-python",
   "name": "python",
   "nbconvert_exporter": "python",
   "pygments_lexer": "ipython3",
   "version": "3.6.3"
  }
 },
 "nbformat": 4,
 "nbformat_minor": 2
}
