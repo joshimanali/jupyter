{
 "cells": [
  {
   "cell_type": "code",
   "execution_count": 146,
   "metadata": {
    "collapsed": false
   },
   "outputs": [
    {
     "name": "stdout",
     "output_type": "stream",
     "text": [
      "<class 'pandas.core.frame.DataFrame'>\n",
      "RangeIndex: 248 entries, 0 to 247\n",
      "Data columns (total 18 columns):\n",
      "﻿booking_id                 248 non-null int64\n",
      "data_date                   248 non-null object\n",
      "booking_date                248 non-null object\n",
      "dispatch_time               248 non-null object\n",
      "closing_time                248 non-null object\n",
      "merchant_name               248 non-null object\n",
      "customer_id                 248 non-null int64\n",
      "customer_name               248 non-null object\n",
      "driver_id                   248 non-null int64\n",
      "driver_name                 248 non-null object\n",
      "shopping_estimated_price    248 non-null int64\n",
      "origin_longitude            248 non-null float64\n",
      "origin_latitude             248 non-null float64\n",
      "destination_longitude       248 non-null float64\n",
      "destination_latitude        248 non-null float64\n",
      "total_distance              248 non-null float64\n",
      "origin_note                 248 non-null object\n",
      "destination_address         248 non-null object\n",
      "dtypes: float64(5), int64(4), object(9)\n",
      "memory usage: 35.0+ KB\n"
     ]
    }
   ],
   "source": [
    "import pandas as pd\n",
    "\n",
    "df = pd.read_csv('probc.csv')\n",
    "df.info()"
   ]
  },
  {
   "cell_type": "code",
   "execution_count": 137,
   "metadata": {
    "collapsed": false
   },
   "outputs": [],
   "source": [
    "# df.dispatch_time = df.dispatch_time.str.replace('\\+07','')\n",
    "# df.closing_time = df.closing_time.str.replace('\\+07','')"
   ]
  },
  {
   "cell_type": "code",
   "execution_count": 162,
   "metadata": {
    "collapsed": false
   },
   "outputs": [
    {
     "data": {
      "text/plain": [
       "13.673469387755102"
      ]
     },
     "execution_count": 162,
     "metadata": {},
     "output_type": "execute_result"
    }
   ],
   "source": [
    "df.dispatch_time = pd.to_datetime(df.dispatch_time)\n",
    "df[df.driver_name == 'HARRY'].dispatch_time.diff().astype('timedelta64[s]').mean()"
   ]
  },
  {
   "cell_type": "code",
   "execution_count": 164,
   "metadata": {
    "collapsed": false
   },
   "outputs": [],
   "source": [
    "# df.closing_time = pd.to_datetime(df.closing_time, errors='raise')"
   ]
  }
 ],
 "metadata": {
  "anaconda-cloud": {},
  "kernelspec": {
   "display_name": "Python 3",
   "language": "python",
   "name": "python3"
  },
  "language_info": {
   "codemirror_mode": {
    "name": "ipython",
    "version": 3
   },
   "file_extension": ".py",
   "mimetype": "text/x-python",
   "name": "python",
   "nbconvert_exporter": "python",
   "pygments_lexer": "ipython3",
   "version": "3.5.2"
  }
 },
 "nbformat": 4,
 "nbformat_minor": 1
}
