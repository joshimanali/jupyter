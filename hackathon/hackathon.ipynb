{
 "cells": [
  {
   "cell_type": "code",
   "execution_count": 2,
   "metadata": {
    "collapsed": true
   },
   "outputs": [],
   "source": [
    "import numpy as np\n",
    "import pandas as pd"
   ]
  },
  {
   "cell_type": "code",
   "execution_count": 3,
   "metadata": {
    "collapsed": true
   },
   "outputs": [],
   "source": [
    "import matplotlib.pyplot as plt\n",
    "import seaborn as sns \n",
    "% matplotlib inline"
   ]
  },
  {
   "cell_type": "code",
   "execution_count": 4,
   "metadata": {},
   "outputs": [
    {
     "data": {
      "text/plain": [
       "['loc_data.csv']"
      ]
     },
     "execution_count": 4,
     "metadata": {},
     "output_type": "execute_result"
    }
   ],
   "source": [
    "import os \n",
    "files = [x for x in os.listdir() if x.endswith('.csv')]\n",
    "files"
   ]
  },
  {
   "cell_type": "code",
   "execution_count": 5,
   "metadata": {
    "collapsed": true
   },
   "outputs": [],
   "source": [
    "df = pd.read_csv('loc_data.csv')"
   ]
  },
  {
   "cell_type": "code",
   "execution_count": 6,
   "metadata": {
    "collapsed": true
   },
   "outputs": [],
   "source": [
    "df.drop(['logDate_unix','visit_time_unix'], inplace=True, axis=1)"
   ]
  },
  {
   "cell_type": "code",
   "execution_count": 6,
   "metadata": {},
   "outputs": [
    {
     "data": {
      "text/html": [
       "<div>\n",
       "<style>\n",
       "    .dataframe thead tr:only-child th {\n",
       "        text-align: right;\n",
       "    }\n",
       "\n",
       "    .dataframe thead th {\n",
       "        text-align: left;\n",
       "    }\n",
       "\n",
       "    .dataframe tbody tr th {\n",
       "        vertical-align: top;\n",
       "    }\n",
       "</style>\n",
       "<table border=\"1\" class=\"dataframe\">\n",
       "  <thead>\n",
       "    <tr style=\"text-align: right;\">\n",
       "      <th></th>\n",
       "      <th>device_id</th>\n",
       "      <th>logDate</th>\n",
       "      <th>visit_time</th>\n",
       "      <th>latitude</th>\n",
       "      <th>longitude</th>\n",
       "      <th>SearchId</th>\n",
       "      <th>search_listing_type</th>\n",
       "      <th>search_maxprice</th>\n",
       "      <th>search_property</th>\n",
       "      <th>search_longitude</th>\n",
       "      <th>search_latitude</th>\n",
       "    </tr>\n",
       "  </thead>\n",
       "  <tbody>\n",
       "    <tr>\n",
       "      <th>0</th>\n",
       "      <td>8966BE56-6F65-415E-8188-A419282DD107</td>\n",
       "      <td>2017-10-26 09:44:00.850888 UTC</td>\n",
       "      <td>2017-10-26 09:44:00 UTC</td>\n",
       "      <td>1.463561</td>\n",
       "      <td>103.836630</td>\n",
       "      <td>F8D2E081-D21F-463B-A525-36BFB5DFF73F</td>\n",
       "      <td>rent</td>\n",
       "      <td>1000.0</td>\n",
       "      <td>I</td>\n",
       "      <td>NaN</td>\n",
       "      <td>NaN</td>\n",
       "    </tr>\n",
       "    <tr>\n",
       "      <th>1</th>\n",
       "      <td>0BCF4543-F9F5-48E4-BF5C-8F06463E8DF4</td>\n",
       "      <td>2017-10-31 08:02:36.646909 UTC</td>\n",
       "      <td>2017-10-31 08:02:36 UTC</td>\n",
       "      <td>1.283665</td>\n",
       "      <td>103.853285</td>\n",
       "      <td>0E334395-E485-46F2-9275-EFA5C3D82851</td>\n",
       "      <td>sale</td>\n",
       "      <td>5000000.0</td>\n",
       "      <td>I</td>\n",
       "      <td>NaN</td>\n",
       "      <td>NaN</td>\n",
       "    </tr>\n",
       "    <tr>\n",
       "      <th>2</th>\n",
       "      <td>E7CB599B-C425-4B2E-93DF-58AD8122320D</td>\n",
       "      <td>2017-10-25 09:41:30.333612 UTC</td>\n",
       "      <td>2017-10-25 09:41:29 UTC</td>\n",
       "      <td>1.391648</td>\n",
       "      <td>103.836486</td>\n",
       "      <td>0075614F-D82C-49C9-B373-872FB5E152D8</td>\n",
       "      <td>sale</td>\n",
       "      <td>20000000.0</td>\n",
       "      <td>I</td>\n",
       "      <td>NaN</td>\n",
       "      <td>NaN</td>\n",
       "    </tr>\n",
       "    <tr>\n",
       "      <th>3</th>\n",
       "      <td>620397F8-5B25-4E78-BACF-5103262D6F6E</td>\n",
       "      <td>2017-10-26 02:13:07.892744 UTC</td>\n",
       "      <td>2017-10-26 02:12:55 UTC</td>\n",
       "      <td>1.357901</td>\n",
       "      <td>103.940721</td>\n",
       "      <td>EE5C0E82-99D3-4CB3-845E-1E0F983704A6</td>\n",
       "      <td>sale</td>\n",
       "      <td>300000.0</td>\n",
       "      <td>O</td>\n",
       "      <td>NaN</td>\n",
       "      <td>NaN</td>\n",
       "    </tr>\n",
       "    <tr>\n",
       "      <th>4</th>\n",
       "      <td>0F0D0904-E1EF-4A80-A2CB-D9711D1A47DF</td>\n",
       "      <td>2017-10-25 09:23:48.519302 UTC</td>\n",
       "      <td>2017-10-25 09:23:47 UTC</td>\n",
       "      <td>1.291885</td>\n",
       "      <td>103.839961</td>\n",
       "      <td>C069816A-983F-4C71-8DE8-80493977572D</td>\n",
       "      <td>rent</td>\n",
       "      <td>20000.0</td>\n",
       "      <td>O</td>\n",
       "      <td>NaN</td>\n",
       "      <td>NaN</td>\n",
       "    </tr>\n",
       "  </tbody>\n",
       "</table>\n",
       "</div>"
      ],
      "text/plain": [
       "                              device_id                         logDate  \\\n",
       "0  8966BE56-6F65-415E-8188-A419282DD107  2017-10-26 09:44:00.850888 UTC   \n",
       "1  0BCF4543-F9F5-48E4-BF5C-8F06463E8DF4  2017-10-31 08:02:36.646909 UTC   \n",
       "2  E7CB599B-C425-4B2E-93DF-58AD8122320D  2017-10-25 09:41:30.333612 UTC   \n",
       "3  620397F8-5B25-4E78-BACF-5103262D6F6E  2017-10-26 02:13:07.892744 UTC   \n",
       "4  0F0D0904-E1EF-4A80-A2CB-D9711D1A47DF  2017-10-25 09:23:48.519302 UTC   \n",
       "\n",
       "                visit_time  latitude   longitude  \\\n",
       "0  2017-10-26 09:44:00 UTC  1.463561  103.836630   \n",
       "1  2017-10-31 08:02:36 UTC  1.283665  103.853285   \n",
       "2  2017-10-25 09:41:29 UTC  1.391648  103.836486   \n",
       "3  2017-10-26 02:12:55 UTC  1.357901  103.940721   \n",
       "4  2017-10-25 09:23:47 UTC  1.291885  103.839961   \n",
       "\n",
       "                               SearchId search_listing_type  search_maxprice  \\\n",
       "0  F8D2E081-D21F-463B-A525-36BFB5DFF73F                rent           1000.0   \n",
       "1  0E334395-E485-46F2-9275-EFA5C3D82851                sale        5000000.0   \n",
       "2  0075614F-D82C-49C9-B373-872FB5E152D8                sale       20000000.0   \n",
       "3  EE5C0E82-99D3-4CB3-845E-1E0F983704A6                sale         300000.0   \n",
       "4  C069816A-983F-4C71-8DE8-80493977572D                rent          20000.0   \n",
       "\n",
       "  search_property  search_longitude  search_latitude  \n",
       "0               I               NaN              NaN  \n",
       "1               I               NaN              NaN  \n",
       "2               I               NaN              NaN  \n",
       "3               O               NaN              NaN  \n",
       "4               O               NaN              NaN  "
      ]
     },
     "execution_count": 6,
     "metadata": {},
     "output_type": "execute_result"
    }
   ],
   "source": [
    "df.head()"
   ]
  },
  {
   "cell_type": "code",
   "execution_count": 7,
   "metadata": {},
   "outputs": [
    {
     "name": "stdout",
     "output_type": "stream",
     "text": [
      "<class 'pandas.core.frame.DataFrame'>\n",
      "RangeIndex: 149388 entries, 0 to 149387\n",
      "Data columns (total 11 columns):\n",
      "device_id              149388 non-null object\n",
      "logDate                149388 non-null object\n",
      "visit_time             149388 non-null object\n",
      "latitude               149388 non-null float64\n",
      "longitude              149388 non-null float64\n",
      "SearchId               149388 non-null object\n",
      "search_listing_type    149388 non-null object\n",
      "search_maxprice        41639 non-null float64\n",
      "search_property        60140 non-null object\n",
      "search_longitude       29539 non-null float64\n",
      "search_latitude        29539 non-null float64\n",
      "dtypes: float64(5), object(6)\n",
      "memory usage: 12.5+ MB\n"
     ]
    }
   ],
   "source": [
    "df.info()"
   ]
  },
  {
   "cell_type": "code",
   "execution_count": 8,
   "metadata": {
    "collapsed": true
   },
   "outputs": [],
   "source": [
    "df.columns = ['deviceID','logDate','visitTime','lat','long','searchID','searchType','maxPrice','propType','searchLong','searchLat']"
   ]
  },
  {
   "cell_type": "code",
   "execution_count": 9,
   "metadata": {},
   "outputs": [
    {
     "data": {
      "text/html": [
       "<div>\n",
       "<style>\n",
       "    .dataframe thead tr:only-child th {\n",
       "        text-align: right;\n",
       "    }\n",
       "\n",
       "    .dataframe thead th {\n",
       "        text-align: left;\n",
       "    }\n",
       "\n",
       "    .dataframe tbody tr th {\n",
       "        vertical-align: top;\n",
       "    }\n",
       "</style>\n",
       "<table border=\"1\" class=\"dataframe\">\n",
       "  <thead>\n",
       "    <tr style=\"text-align: right;\">\n",
       "      <th></th>\n",
       "      <th>lat</th>\n",
       "      <th>long</th>\n",
       "      <th>maxPrice</th>\n",
       "      <th>searchLong</th>\n",
       "      <th>searchLat</th>\n",
       "    </tr>\n",
       "  </thead>\n",
       "  <tbody>\n",
       "    <tr>\n",
       "      <th>count</th>\n",
       "      <td>149388.000000</td>\n",
       "      <td>149388.000000</td>\n",
       "      <td>4.163900e+04</td>\n",
       "      <td>29539.000000</td>\n",
       "      <td>29539.000000</td>\n",
       "    </tr>\n",
       "    <tr>\n",
       "      <th>mean</th>\n",
       "      <td>1.986114</td>\n",
       "      <td>102.942817</td>\n",
       "      <td>1.119326e+06</td>\n",
       "      <td>103.840674</td>\n",
       "      <td>1.333832</td>\n",
       "    </tr>\n",
       "    <tr>\n",
       "      <th>std</th>\n",
       "      <td>5.205912</td>\n",
       "      <td>13.751884</td>\n",
       "      <td>3.185459e+06</td>\n",
       "      <td>0.141937</td>\n",
       "      <td>0.330422</td>\n",
       "    </tr>\n",
       "    <tr>\n",
       "      <th>min</th>\n",
       "      <td>-42.890757</td>\n",
       "      <td>-123.025961</td>\n",
       "      <td>5.000000e+02</td>\n",
       "      <td>88.082727</td>\n",
       "      <td>-38.531977</td>\n",
       "    </tr>\n",
       "    <tr>\n",
       "      <th>25%</th>\n",
       "      <td>1.308975</td>\n",
       "      <td>103.806494</td>\n",
       "      <td>3.000000e+03</td>\n",
       "      <td>103.800957</td>\n",
       "      <td>1.308021</td>\n",
       "    </tr>\n",
       "    <tr>\n",
       "      <th>50%</th>\n",
       "      <td>1.335136</td>\n",
       "      <td>103.848836</td>\n",
       "      <td>5.000000e+05</td>\n",
       "      <td>103.845398</td>\n",
       "      <td>1.330306</td>\n",
       "    </tr>\n",
       "    <tr>\n",
       "      <th>75%</th>\n",
       "      <td>1.371310</td>\n",
       "      <td>103.893256</td>\n",
       "      <td>1.500000e+06</td>\n",
       "      <td>103.885144</td>\n",
       "      <td>1.356832</td>\n",
       "    </tr>\n",
       "    <tr>\n",
       "      <th>max</th>\n",
       "      <td>59.348471</td>\n",
       "      <td>174.859170</td>\n",
       "      <td>5.000000e+07</td>\n",
       "      <td>103.988663</td>\n",
       "      <td>1.461180</td>\n",
       "    </tr>\n",
       "  </tbody>\n",
       "</table>\n",
       "</div>"
      ],
      "text/plain": [
       "                 lat           long      maxPrice    searchLong     searchLat\n",
       "count  149388.000000  149388.000000  4.163900e+04  29539.000000  29539.000000\n",
       "mean        1.986114     102.942817  1.119326e+06    103.840674      1.333832\n",
       "std         5.205912      13.751884  3.185459e+06      0.141937      0.330422\n",
       "min       -42.890757    -123.025961  5.000000e+02     88.082727    -38.531977\n",
       "25%         1.308975     103.806494  3.000000e+03    103.800957      1.308021\n",
       "50%         1.335136     103.848836  5.000000e+05    103.845398      1.330306\n",
       "75%         1.371310     103.893256  1.500000e+06    103.885144      1.356832\n",
       "max        59.348471     174.859170  5.000000e+07    103.988663      1.461180"
      ]
     },
     "execution_count": 9,
     "metadata": {},
     "output_type": "execute_result"
    }
   ],
   "source": [
    "df.describe()"
   ]
  },
  {
   "cell_type": "code",
   "execution_count": 10,
   "metadata": {},
   "outputs": [
    {
     "data": {
      "text/html": [
       "<div>\n",
       "<style>\n",
       "    .dataframe thead tr:only-child th {\n",
       "        text-align: right;\n",
       "    }\n",
       "\n",
       "    .dataframe thead th {\n",
       "        text-align: left;\n",
       "    }\n",
       "\n",
       "    .dataframe tbody tr th {\n",
       "        vertical-align: top;\n",
       "    }\n",
       "</style>\n",
       "<table border=\"1\" class=\"dataframe\">\n",
       "  <thead>\n",
       "    <tr style=\"text-align: right;\">\n",
       "      <th></th>\n",
       "      <th>deviceID</th>\n",
       "      <th>logDate</th>\n",
       "      <th>visitTime</th>\n",
       "      <th>searchID</th>\n",
       "      <th>searchType</th>\n",
       "      <th>propType</th>\n",
       "    </tr>\n",
       "  </thead>\n",
       "  <tbody>\n",
       "    <tr>\n",
       "      <th>count</th>\n",
       "      <td>149388</td>\n",
       "      <td>149388</td>\n",
       "      <td>149388</td>\n",
       "      <td>149388</td>\n",
       "      <td>149388</td>\n",
       "      <td>60140</td>\n",
       "    </tr>\n",
       "    <tr>\n",
       "      <th>unique</th>\n",
       "      <td>14017</td>\n",
       "      <td>42805</td>\n",
       "      <td>41076</td>\n",
       "      <td>149388</td>\n",
       "      <td>2</td>\n",
       "      <td>7</td>\n",
       "    </tr>\n",
       "    <tr>\n",
       "      <th>top</th>\n",
       "      <td>2EC1574D-3261-4265-9EAE-48B33D034931</td>\n",
       "      <td>2017-10-28 01:03:06.667579 UTC</td>\n",
       "      <td>2017-10-28 01:03:10 UTC</td>\n",
       "      <td>A42CD752-006B-4434-97A8-34CEDCC11C27</td>\n",
       "      <td>sale</td>\n",
       "      <td>N</td>\n",
       "    </tr>\n",
       "    <tr>\n",
       "      <th>freq</th>\n",
       "      <td>554</td>\n",
       "      <td>93</td>\n",
       "      <td>93</td>\n",
       "      <td>1</td>\n",
       "      <td>98275</td>\n",
       "      <td>27139</td>\n",
       "    </tr>\n",
       "  </tbody>\n",
       "</table>\n",
       "</div>"
      ],
      "text/plain": [
       "                                    deviceID                         logDate  \\\n",
       "count                                 149388                          149388   \n",
       "unique                                 14017                           42805   \n",
       "top     2EC1574D-3261-4265-9EAE-48B33D034931  2017-10-28 01:03:06.667579 UTC   \n",
       "freq                                     554                              93   \n",
       "\n",
       "                      visitTime                              searchID  \\\n",
       "count                    149388                                149388   \n",
       "unique                    41076                                149388   \n",
       "top     2017-10-28 01:03:10 UTC  A42CD752-006B-4434-97A8-34CEDCC11C27   \n",
       "freq                         93                                     1   \n",
       "\n",
       "       searchType propType  \n",
       "count      149388    60140  \n",
       "unique          2        7  \n",
       "top          sale        N  \n",
       "freq        98275    27139  "
      ]
     },
     "execution_count": 10,
     "metadata": {},
     "output_type": "execute_result"
    }
   ],
   "source": [
    "df.describe(include=[np.object])"
   ]
  },
  {
   "cell_type": "code",
   "execution_count": 11,
   "metadata": {},
   "outputs": [
    {
     "data": {
      "text/plain": [
       "<matplotlib.axes._subplots.AxesSubplot at 0x1f82d71e710>"
      ]
     },
     "execution_count": 11,
     "metadata": {},
     "output_type": "execute_result"
    },
    {
     "data": {
      "image/png": "[encoded data removed]",
      "text/plain": [
       "<matplotlib.figure.Figure at 0x1f82d71ec88>"
      ]
     },
     "metadata": {},
     "output_type": "display_data"
    }
   ],
   "source": [
    "plt.figure(figsize=(10,6))\n",
    "sns.heatmap(df.isnull(), yticklabels=False, cbar=False, cmap='Paired')"
   ]
  },
  {
   "cell_type": "code",
   "execution_count": 12,
   "metadata": {},
   "outputs": [
    {
     "data": {
      "text/plain": [
       "0.80226658098374704"
      ]
     },
     "execution_count": 12,
     "metadata": {},
     "output_type": "execute_result"
    }
   ],
   "source": [
    "# 80% search without using phone's location \n",
    "df['searchLong'].value_counts(dropna=False)[np.nan] / len(df['searchLong'])"
   ]
  },
  {
   "cell_type": "code",
   "execution_count": 13,
   "metadata": {},
   "outputs": [
    {
     "data": {
      "text/plain": [
       "N    27139\n",
       "H    22724\n",
       "L     8073\n",
       "R     1364\n",
       "I      460\n",
       "O      327\n",
       "D       53\n",
       "Name: propType, dtype: int64"
      ]
     },
     "execution_count": 13,
     "metadata": {},
     "output_type": "execute_result"
    }
   ],
   "source": [
    "df['propType'].value_counts()"
   ]
  },
  {
   "cell_type": "code",
   "execution_count": 167,
   "metadata": {},
   "outputs": [
    {
     "data": {
      "text/plain": [
       "0.40257584277184244"
      ]
     },
     "execution_count": 167,
     "metadata": {},
     "output_type": "execute_result"
    }
   ],
   "source": [
    "df['propType'].value_counts().sum() / len(df['propType'])"
   ]
  },
  {
   "cell_type": "code",
   "execution_count": 133,
   "metadata": {},
   "outputs": [
    {
     "data": {
      "text/plain": [
       "<matplotlib.axes._subplots.AxesSubplot at 0x21e86f5b0b8>"
      ]
     },
     "execution_count": 133,
     "metadata": {},
     "output_type": "execute_result"
    },
    {
     "data": {
      "image/png": "[encoded data removed]",
      "text/plain": [
       "<matplotlib.figure.Figure at 0x21e865f82e8>"
      ]
     },
     "metadata": {},
     "output_type": "display_data"
    }
   ],
   "source": [
    "sns.countplot(df['searchType'], palette='Set2')"
   ]
  },
  {
   "cell_type": "code",
   "execution_count": 7,
   "metadata": {},
   "outputs": [
    {
     "data": {
      "text/plain": [
       "'2017-10-23 08:02:18.063625 UTC'"
      ]
     },
     "execution_count": 7,
     "metadata": {},
     "output_type": "execute_result"
    }
   ],
   "source": [
    "df['logDate'].min()"
   ]
  },
  {
   "cell_type": "code",
   "execution_count": 8,
   "metadata": {},
   "outputs": [
    {
     "data": {
      "text/plain": [
       "'2017-10-31 10:08:14.794585 UTC'"
      ]
     },
     "execution_count": 8,
     "metadata": {},
     "output_type": "execute_result"
    }
   ],
   "source": [
    "df['logDate'].max()"
   ]
  }
 ],
 "metadata": {
  "kernelspec": {
   "display_name": "Python 3",
   "language": "python",
   "name": "python3"
  },
  "language_info": {
   "codemirror_mode": {
    "name": "ipython",
    "version": 3
   },
   "file_extension": ".py",
   "mimetype": "text/x-python",
   "name": "python",
   "nbconvert_exporter": "python",
   "pygments_lexer": "ipython3",
   "version": "3.6.3"
  }
 },
 "nbformat": 4,
 "nbformat_minor": 2
}
