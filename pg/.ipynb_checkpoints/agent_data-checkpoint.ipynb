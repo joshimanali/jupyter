{
 "cells": [
  {
   "cell_type": "code",
   "execution_count": 27,
   "metadata": {
    "collapsed": false,
    "deletable": true,
    "editable": true
   },
   "outputs": [
    {
     "data": {
      "text/plain": [
       "0       NaN\n",
       "1       NaN\n",
       "2       NaN\n",
       "3       NaN\n",
       "4       NaN\n",
       "5       NaN\n",
       "6       NaN\n",
       "7       NaN\n",
       "8       NaN\n",
       "9       NaN\n",
       "10      NaN\n",
       "11      NaN\n",
       "12      NaN\n",
       "13      NaN\n",
       "14      NaN\n",
       "15      NaN\n",
       "16      NaN\n",
       "17      NaN\n",
       "18      NaN\n",
       "19      NaN\n",
       "20      NaN\n",
       "21      NaN\n",
       "22      NaN\n",
       "23      NaN\n",
       "24      NaN\n",
       "25      NaN\n",
       "26      NaN\n",
       "27      NaN\n",
       "28      NaN\n",
       "29      NaN\n",
       "         ..\n",
       "20463   NaN\n",
       "20464   NaN\n",
       "20465   NaN\n",
       "20466   NaN\n",
       "20467   NaN\n",
       "20468   NaN\n",
       "20469   NaN\n",
       "20470   NaN\n",
       "20471   NaN\n",
       "20472   NaN\n",
       "20473   NaN\n",
       "20474   NaN\n",
       "20475   NaN\n",
       "20476   NaN\n",
       "20477   NaN\n",
       "20478   NaN\n",
       "20479   NaN\n",
       "20480   NaN\n",
       "20481   NaN\n",
       "20482   NaN\n",
       "20483   NaN\n",
       "20484   NaN\n",
       "20485   NaN\n",
       "20486   NaN\n",
       "20487   NaN\n",
       "20488   NaN\n",
       "20489   NaN\n",
       "20490   NaN\n",
       "20491   NaN\n",
       "20492   NaN\n",
       "Name: RESPONSE RATE, dtype: float64"
      ]
     },
     "execution_count": 27,
     "metadata": {},
     "output_type": "execute_result"
    }
   ],
   "source": [
    "import pandas as pd\n",
    "\n",
    "url = 'https://docs.google.com/spreadsheet/ccc?key=1EBzgkeXQq4FyLf1dp7hM0N86w9gElzGFWK2ixuyHn1E&id=1958868614&output=csv'\n",
    "df = pd.read_csv(url,index_col=None, header=0)\n",
    "\n",
    "df['RESPONSE RATE'].dtypes\n",
    "pd.to_numeric(df['RESPONSE RATE'], errors='coerce')\n",
    "\n",
    "\n",
    "\n",
    "# df['TOTAL LISTINGS'].corr(df['RESPONSE RATE'])\n"
   ]
  }
 ],
 "metadata": {
  "anaconda-cloud": {},
  "kernelspec": {
   "display_name": "Python [conda root]",
   "language": "python",
   "name": "conda-root-py"
  },
  "language_info": {
   "codemirror_mode": {
    "name": "ipython",
    "version": 3
   },
   "file_extension": ".py",
   "mimetype": "text/x-python",
   "name": "python",
   "nbconvert_exporter": "python",
   "pygments_lexer": "ipython3",
   "version": "3.5.2"
  }
 },
 "nbformat": 4,
 "nbformat_minor": 1
}
