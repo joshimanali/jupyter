{
 "cells": [
  {
   "cell_type": "code",
   "execution_count": 30,
   "metadata": {
    "collapsed": false
   },
   "outputs": [
    {
     "name": "stdout",
     "output_type": "stream",
     "text": [
      "200\n"
     ]
    }
   ],
   "source": [
    "import requests\n",
    "\n",
    "url = \"https://onesignal.com/api/v1/players/csv_export\"\n",
    "\n",
    "querystring = {\"app_id\":\"app_id\"}\n",
    "\n",
    "payload = \"{\\\"extra_fields\\\": [\\\"location\\\", \\\"rooted\\\"], \\\"last_active_since\\\": \\\"1469392779\\\"}\"\n",
    "headers = {\n",
    "    'authorization': \"Basic auth_key\",\n",
    "    'content-type': \"application/json\",\n",
    "    'cache-control': \"no-cache\",\n",
    "    }\n",
    "\n",
    "res = requests.request(\"POST\", url, data=payload, headers=headers, params=querystring)\n",
    "print(res.status_code) "
   ]
  },
  {
   "cell_type": "code",
   "execution_count": 25,
   "metadata": {
    "collapsed": false
   },
   "outputs": [
    {
     "name": "stdout",
     "output_type": "stream",
     "text": [
      "https://onesignal.s3.amazonaws.com/csv_exports/576212d6-7e2d-4130-8684-30cc7dd0d09f/users_755d842140314a5851ffcb7aac1d6bdc_2017-09-19.csv.gz\n"
     ]
    }
   ],
   "source": [
    "dl_url = res.json()['csv_file_url']\n",
    "print(dl_url)"
   ]
  },
  {
   "cell_type": "code",
   "execution_count": null,
   "metadata": {
    "collapsed": true
   },
   "outputs": [],
   "source": [
    "# Add methods to download, unzip and read csv into df, instead of reading off local folder "
   ]
  },
  {
   "cell_type": "code",
   "execution_count": 35,
   "metadata": {
    "collapsed": false
   },
   "outputs": [
    {
     "name": "stdout",
     "output_type": "stream",
     "text": [
      "<class 'pandas.core.frame.DataFrame'>\n",
      "RangeIndex: 35916 entries, 0 to 35915\n",
      "Data columns (total 20 columns):\n",
      "id                    35916 non-null object\n",
      "identifier            35161 non-null object\n",
      "session_count         35916 non-null int64\n",
      "language              35916 non-null object\n",
      "timezone              35916 non-null int64\n",
      "game_version          35916 non-null int64\n",
      "device_os             35916 non-null object\n",
      "device_type           35916 non-null int64\n",
      "device_model          35916 non-null object\n",
      "ad_id                 35916 non-null object\n",
      "tags                  35795 non-null object\n",
      "last_active           35916 non-null object\n",
      "playtime              35916 non-null int64\n",
      "amount_spent          35916 non-null float64\n",
      "created_at            35916 non-null object\n",
      "invalid_identifier    35916 non-null object\n",
      "badge_count           35916 non-null int64\n",
      "lat                   2 non-null float64\n",
      "lon                   2 non-null float64\n",
      "rooted                35916 non-null object\n",
      "dtypes: float64(3), int64(6), object(11)\n",
      "memory usage: 5.5+ MB\n"
     ]
    }
   ],
   "source": [
    "df = pd.read_csv('onesignaldata.csv')\n",
    "df.info()"
   ]
  },
  {
   "cell_type": "code",
   "execution_count": 36,
   "metadata": {
    "collapsed": false
   },
   "outputs": [
    {
     "data": {
      "text/plain": [
       "0    2016-09-12 16:12:34.373379\n",
       "1    2016-08-21 04:31:20.030957\n",
       "2    2016-09-12 16:46:29.298499\n",
       "3    2016-08-16 06:08:33.867738\n",
       "4    2016-09-20 14:14:38.002525\n",
       "Name: last_active, dtype: object"
      ]
     },
     "execution_count": 36,
     "metadata": {},
     "output_type": "execute_result"
    }
   ],
   "source": [
    " df.last_active.head()"
   ]
  },
  {
   "cell_type": "code",
   "execution_count": 39,
   "metadata": {
    "collapsed": false
   },
   "outputs": [
    {
     "data": {
      "text/plain": [
       "'2016-03-16 09:12:24.698643'"
      ]
     },
     "execution_count": 39,
     "metadata": {},
     "output_type": "execute_result"
    }
   ],
   "source": [
    "df.created_at.min()"
   ]
  },
  {
   "cell_type": "code",
   "execution_count": 55,
   "metadata": {
    "collapsed": false
   },
   "outputs": [
    {
     "name": "stdout",
     "output_type": "stream",
     "text": [
      "<class 'pandas.core.frame.DataFrame'>\n",
      "Int64Index: 25460 entries, 1 to 35914\n",
      "Data columns (total 20 columns):\n",
      "id                    25460 non-null object\n",
      "identifier            25460 non-null object\n",
      "session_count         25460 non-null int64\n",
      "language              25460 non-null object\n",
      "timezone              25460 non-null int64\n",
      "game_version          25460 non-null int64\n",
      "device_os             25460 non-null object\n",
      "device_type           25460 non-null int64\n",
      "device_model          25460 non-null object\n",
      "ad_id                 25460 non-null object\n",
      "tags                  25408 non-null object\n",
      "last_active           25460 non-null object\n",
      "playtime              25460 non-null int64\n",
      "amount_spent          25460 non-null float64\n",
      "created_at            25460 non-null object\n",
      "invalid_identifier    25460 non-null object\n",
      "badge_count           25460 non-null int64\n",
      "lat                   1 non-null float64\n",
      "lon                   1 non-null float64\n",
      "rooted                25460 non-null object\n",
      "dtypes: float64(3), int64(6), object(11)\n",
      "memory usage: 4.1+ MB\n"
     ]
    }
   ],
   "source": [
    "df1 = df.loc[df.invalid_identifier == 'f'].loc[ df.session_count >= 1]\n",
    "df1.info()"
   ]
  },
  {
   "cell_type": "code",
   "execution_count": 62,
   "metadata": {
    "collapsed": false
   },
   "outputs": [
    {
     "name": "stdout",
     "output_type": "stream",
     "text": [
      "<class 'pandas.core.frame.DataFrame'>\n",
      "Int64Index: 0 entries\n",
      "Data columns (total 20 columns):\n",
      "id                    0 non-null object\n",
      "identifier            0 non-null object\n",
      "session_count         0 non-null int64\n",
      "language              0 non-null object\n",
      "timezone              0 non-null int64\n",
      "game_version          0 non-null int64\n",
      "device_os             0 non-null object\n",
      "device_type           0 non-null int64\n",
      "device_model          0 non-null object\n",
      "ad_id                 0 non-null object\n",
      "tags                  0 non-null object\n",
      "last_active           0 non-null object\n",
      "playtime              0 non-null int64\n",
      "amount_spent          0 non-null float64\n",
      "created_at            0 non-null object\n",
      "invalid_identifier    0 non-null object\n",
      "badge_count           0 non-null int64\n",
      "lat                   0 non-null float64\n",
      "lon                   0 non-null float64\n",
      "rooted                0 non-null object\n",
      "dtypes: float64(3), int64(6), object(11)\n",
      "memory usage: 0.0+ bytes\n"
     ]
    }
   ],
   "source": [
    "df1.loc[df1.duplicated('id') == True].info()"
   ]
  },
  {
   "cell_type": "code",
   "execution_count": 64,
   "metadata": {
    "collapsed": false
   },
   "outputs": [
    {
     "data": {
      "text/html": [
       "<div>\n",
       "<table border=\"1\" class=\"dataframe\">\n",
       "  <thead>\n",
       "    <tr style=\"text-align: right;\">\n",
       "      <th></th>\n",
       "      <th>id</th>\n",
       "      <th>identifier</th>\n",
       "      <th>session_count</th>\n",
       "      <th>language</th>\n",
       "      <th>timezone</th>\n",
       "      <th>game_version</th>\n",
       "      <th>device_os</th>\n",
       "      <th>device_type</th>\n",
       "      <th>device_model</th>\n",
       "      <th>ad_id</th>\n",
       "      <th>tags</th>\n",
       "      <th>last_active</th>\n",
       "      <th>playtime</th>\n",
       "      <th>amount_spent</th>\n",
       "      <th>created_at</th>\n",
       "      <th>invalid_identifier</th>\n",
       "      <th>badge_count</th>\n",
       "      <th>lat</th>\n",
       "      <th>lon</th>\n",
       "      <th>rooted</th>\n",
       "    </tr>\n",
       "  </thead>\n",
       "  <tbody>\n",
       "    <tr>\n",
       "      <th>1</th>\n",
       "      <td>0f5426a3-ba07-42a1-99f9-a0059ceee1d7</td>\n",
       "      <td>5d7a284a1a7d58168de06fb11c80c244d204f06af6dfdd...</td>\n",
       "      <td>2</td>\n",
       "      <td>en</td>\n",
       "      <td>28800</td>\n",
       "      <td>99</td>\n",
       "      <td>9.2.1</td>\n",
       "      <td>0</td>\n",
       "      <td>iPad2,7</td>\n",
       "      <td>6F21B77D-1372-4E26-A927-EF66EEA566A8</td>\n",
       "      <td>\"userId\"=&gt;\"212464\", \"LoggedIn\"=&gt;\"1\", \"deviceId...</td>\n",
       "      <td>2016-08-21 04:31:20.030957</td>\n",
       "      <td>67</td>\n",
       "      <td>0.0</td>\n",
       "      <td>2016-08-21 04:30:16.480636</td>\n",
       "      <td>f</td>\n",
       "      <td>0</td>\n",
       "      <td>NaN</td>\n",
       "      <td>NaN</td>\n",
       "      <td>f</td>\n",
       "    </tr>\n",
       "    <tr>\n",
       "      <th>2</th>\n",
       "      <td>0456855c-bf10-470b-88e0-c7dc8b072acf</td>\n",
       "      <td>6eeea78923cf4d8590c39cabda66c9cd50822dc200bf72...</td>\n",
       "      <td>2</td>\n",
       "      <td>en</td>\n",
       "      <td>28800</td>\n",
       "      <td>99</td>\n",
       "      <td>9.3.5</td>\n",
       "      <td>0</td>\n",
       "      <td>iPhone7,1</td>\n",
       "      <td>708F40DC-5902-4255-8490-50F25722D242</td>\n",
       "      <td>\"deviceId\"=&gt;\"708F40DC-5902-4255-8490-50F25722D...</td>\n",
       "      <td>2016-09-12 16:46:29.298499</td>\n",
       "      <td>270</td>\n",
       "      <td>0.0</td>\n",
       "      <td>2016-09-12 16:41:59.95211</td>\n",
       "      <td>f</td>\n",
       "      <td>0</td>\n",
       "      <td>NaN</td>\n",
       "      <td>NaN</td>\n",
       "      <td>f</td>\n",
       "    </tr>\n",
       "    <tr>\n",
       "      <th>5</th>\n",
       "      <td>0b2085e6-809c-4712-b764-93df77f0d008</td>\n",
       "      <td>APA91bFQ_g7jgYLvXi_8ds4cUcoP4nc5Tl33RdsmKH35st...</td>\n",
       "      <td>3</td>\n",
       "      <td>en</td>\n",
       "      <td>28800</td>\n",
       "      <td>301412293</td>\n",
       "      <td>5.0</td>\n",
       "      <td>1</td>\n",
       "      <td>SM-N9005</td>\n",
       "      <td>25f9591f-f3af-49e7-bd1d-e10eb386b2ec</td>\n",
       "      <td>\"deviceId\"=&gt;\"fdfafafc64dd18b1\", \"deviceType\"=&gt;...</td>\n",
       "      <td>2016-09-16 05:49:42.212173</td>\n",
       "      <td>0</td>\n",
       "      <td>0.0</td>\n",
       "      <td>2016-05-11 09:50:49.951799</td>\n",
       "      <td>f</td>\n",
       "      <td>0</td>\n",
       "      <td>NaN</td>\n",
       "      <td>NaN</td>\n",
       "      <td>f</td>\n",
       "    </tr>\n",
       "  </tbody>\n",
       "</table>\n",
       "</div>"
      ],
      "text/plain": [
       "                                     id  \\\n",
       "1  0f5426a3-ba07-42a1-99f9-a0059ceee1d7   \n",
       "2  0456855c-bf10-470b-88e0-c7dc8b072acf   \n",
       "5  0b2085e6-809c-4712-b764-93df77f0d008   \n",
       "\n",
       "                                          identifier  session_count language  \\\n",
       "1  5d7a284a1a7d58168de06fb11c80c244d204f06af6dfdd...              2       en   \n",
       "2  6eeea78923cf4d8590c39cabda66c9cd50822dc200bf72...              2       en   \n",
       "5  APA91bFQ_g7jgYLvXi_8ds4cUcoP4nc5Tl33RdsmKH35st...              3       en   \n",
       "\n",
       "   timezone  game_version device_os  device_type device_model  \\\n",
       "1     28800            99     9.2.1            0      iPad2,7   \n",
       "2     28800            99     9.3.5            0    iPhone7,1   \n",
       "5     28800     301412293       5.0            1     SM-N9005   \n",
       "\n",
       "                                  ad_id  \\\n",
       "1  6F21B77D-1372-4E26-A927-EF66EEA566A8   \n",
       "2  708F40DC-5902-4255-8490-50F25722D242   \n",
       "5  25f9591f-f3af-49e7-bd1d-e10eb386b2ec   \n",
       "\n",
       "                                                tags  \\\n",
       "1  \"userId\"=>\"212464\", \"LoggedIn\"=>\"1\", \"deviceId...   \n",
       "2  \"deviceId\"=>\"708F40DC-5902-4255-8490-50F25722D...   \n",
       "5  \"deviceId\"=>\"fdfafafc64dd18b1\", \"deviceType\"=>...   \n",
       "\n",
       "                  last_active  playtime  amount_spent  \\\n",
       "1  2016-08-21 04:31:20.030957        67           0.0   \n",
       "2  2016-09-12 16:46:29.298499       270           0.0   \n",
       "5  2016-09-16 05:49:42.212173         0           0.0   \n",
       "\n",
       "                   created_at invalid_identifier  badge_count  lat  lon rooted  \n",
       "1  2016-08-21 04:30:16.480636                  f            0  NaN  NaN      f  \n",
       "2   2016-09-12 16:41:59.95211                  f            0  NaN  NaN      f  \n",
       "5  2016-05-11 09:50:49.951799                  f            0  NaN  NaN      f  "
      ]
     },
     "execution_count": 64,
     "metadata": {},
     "output_type": "execute_result"
    }
   ],
   "source": [
    "df1.head(3)"
   ]
  }
 ],
 "metadata": {
  "anaconda-cloud": {},
  "kernelspec": {
   "display_name": "Python [default]",
   "language": "python",
   "name": "python3"
  },
  "language_info": {
   "codemirror_mode": {
    "name": "ipython",
    "version": 3
   },
   "file_extension": ".py",
   "mimetype": "text/x-python",
   "name": "python",
   "nbconvert_exporter": "python",
   "pygments_lexer": "ipython3",
   "version": "3.5.2"
  }
 },
 "nbformat": 4,
 "nbformat_minor": 1
}
