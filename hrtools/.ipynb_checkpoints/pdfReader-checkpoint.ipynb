{
 "cells": [
  {
   "cell_type": "code",
   "execution_count": 3,
   "metadata": {
    "collapsed": false,
    "deletable": true,
    "editable": true
   },
   "outputs": [
    {
     "name": "stdout",
     "output_type": "stream",
     "text": [
      "{'Resume-KenTran.pdf': '2 pages', 'pdf-sample.pdf': '2 pages', 'php_developer_cv_template.pdf': '2 pages'}\n",
      "{'pdf': 6, 'php': 6, 'adobe': 2, 'developer': 2}\n"
     ]
    }
   ],
   "source": [
    "import PyPDF2 as ppdf\n",
    "import os\n",
    "\n",
    "# look for pdf files in current working dir \n",
    "pdfFiles=[file for file in os.listdir('.') if file.endswith('.pdf')]\n",
    "# print(pdfFiles)        \n",
    "\n",
    "def readFiles(alist):\n",
    "    output = []\n",
    "    for file in alist:\n",
    "        data = open(file, 'rb')\n",
    "        reader = ppdf.PdfFileReader(data)\n",
    "        output.append(reader)        \n",
    "    return output #return a list of reader objects\n",
    "output = readFiles(pdfFiles)\n",
    "\n",
    "# count number of pages in each file \n",
    "print({fileName:str(file.numPages)+' pages' for fileName in pdfFiles for file in output})\n",
    "\n",
    "# read all pages in each file \n",
    "def readPages(alist):\n",
    "    output = ''\n",
    "    for obj in alist:\n",
    "        for i in range(obj.numPages):\n",
    "            page = obj.getPage(i)\n",
    "            content = page.extractText()\n",
    "            output+=content\n",
    "    return output.lower()    \n",
    "                     \n",
    "raw = readPages(output).split(' ')\n",
    "\n",
    "# build a checklist and standardize items to lowercase\n",
    "checklist = [x.lower() for x in ['Adobe', 'PDF', 'PHP', 'developer', 'mobile']]\n",
    "\n",
    "# construct a scanner to hold matched keywords and their frequency \n",
    "scan = {word:raw.count(word) for word in raw if word.lower() in checklist}\n",
    "print(scan)        \n",
    "        \n"
   ]
  },
  {
   "cell_type": "code",
   "execution_count": null,
   "metadata": {
    "collapsed": true,
    "deletable": true,
    "editable": true
   },
   "outputs": [],
   "source": []
  }
 ],
 "metadata": {
  "anaconda-cloud": {},
  "kernelspec": {
   "display_name": "Python [default]",
   "language": "python",
   "name": "python3"
  },
  "language_info": {
   "codemirror_mode": {
    "name": "ipython",
    "version": 3
   },
   "file_extension": ".py",
   "mimetype": "text/x-python",
   "name": "python",
   "nbconvert_exporter": "python",
   "pygments_lexer": "ipython3",
   "version": "3.5.2"
  }
 },
 "nbformat": 4,
 "nbformat_minor": 1
}
