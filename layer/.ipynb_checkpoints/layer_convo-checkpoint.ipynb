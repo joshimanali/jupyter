{
 "cells": [
  {
   "cell_type": "code",
   "execution_count": 1,
   "metadata": {
    "collapsed": true
   },
   "outputs": [],
   "source": [
    "import requests\n",
    "import json"
   ]
  },
  {
   "cell_type": "code",
   "execution_count": 2,
   "metadata": {
    "collapsed": true
   },
   "outputs": [],
   "source": [
    "url = \"https://api.layer.com/apps/db29735c-78ce-11e7-b3de-175e7fc9e81f/conversations/conversation_id/messages\""
   ]
  },
  {
   "cell_type": "code",
   "execution_count": 90,
   "metadata": {
    "collapsed": true
   },
   "outputs": [],
   "source": [
    "headers = {\n",
    "    'accept': \"application/vnd.layer+json; version=3.0\",\n",
    "    'authorization': \"Bearer token\",\n",
    "    'content-type': \"application/json\",\n",
    "    }"
   ]
  },
  {
   "cell_type": "code",
   "execution_count": 91,
   "metadata": {
    "collapsed": true
   },
   "outputs": [],
   "source": [
    "res = requests.request(\"GET\", url, headers=headers)"
   ]
  },
  {
   "cell_type": "code",
   "execution_count": 92,
   "metadata": {
    "collapsed": true
   },
   "outputs": [],
   "source": [
    "raw = json.loads(res.text)"
   ]
  },
  {
   "cell_type": "code",
   "execution_count": 93,
   "metadata": {
    "collapsed": true
   },
   "outputs": [],
   "source": [
    "r = []\n",
    "for i in raw:\n",
    "    a = [x.get('body') for x in i.get('parts')]\n",
    "    b = [i.get('sender')['user_id']]\n",
    "    r.append(zip(b,a))"
   ]
  },
  {
   "cell_type": "code",
   "execution_count": 94,
   "metadata": {},
   "outputs": [
    {
     "name": "stdout",
     "output_type": "stream",
     "text": [
      "('CS_SG_38164', '96340881')\n",
      "('AG_SG_164374', 'Please leave your contact number behind so that I can text you more information thanks')\n",
      "('AG_SG_164374', \"House is generally breezy on its own. Owner has a wine chiller on the first level but it's not controlled by temperature\")\n",
      "('AG_SG_164374', \"If you mean standing inside the gate and looking outwards, it's facing south west but more towards south.\")\n",
      "('AG_SG_164374', 'Thanks for reaching out')\n",
      "('AG_SG_164374', 'Hi Vincent')\n",
      "('CS_SG_38164', \"Hi! I'd like to learn more about this listing. what is facing of the gate? please get back to me. Thank you! Vincent\")\n"
     ]
    }
   ],
   "source": [
    "for i in r:\n",
    "    print(*i)"
   ]
  }
 ],
 "metadata": {
  "kernelspec": {
   "display_name": "Python 3",
   "language": "python",
   "name": "python3"
  },
  "language_info": {
   "codemirror_mode": {
    "name": "ipython",
    "version": 3
   },
   "file_extension": ".py",
   "mimetype": "text/x-python",
   "name": "python",
   "nbconvert_exporter": "python",
   "pygments_lexer": "ipython3",
   "version": "3.6.3"
  }
 },
 "nbformat": 4,
 "nbformat_minor": 2
}
