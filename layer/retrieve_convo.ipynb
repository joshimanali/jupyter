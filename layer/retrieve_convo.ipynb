{
 "cells": [
  {
   "cell_type": "code",
   "execution_count": 179,
   "metadata": {
    "collapsed": true
   },
   "outputs": [],
   "source": [
    "import requests "
   ]
  },
  {
   "cell_type": "code",
   "execution_count": 69,
   "metadata": {
    "collapsed": true
   },
   "outputs": [],
   "source": [
    "url = \"https://us-central1-mobile-team-1201f.cloudfunctions.net/live/getConversationsByAgent\"\n",
    "\n",
    "payload = \"\"\"{\"adminEmail\":\"aldrickloh.ssagroup@gmail.com\"}\"\"\""
   ]
  },
  {
   "cell_type": "code",
   "execution_count": 70,
   "metadata": {
    "collapsed": true
   },
   "outputs": [],
   "source": [
    "headers = {\n",
    "    'cache-control': \"no-cache\",\n",
    "    'content-type': \"application/json\",\n",
    "    }"
   ]
  },
  {
   "cell_type": "code",
   "execution_count": 71,
   "metadata": {
    "collapsed": true
   },
   "outputs": [],
   "source": [
    "res = requests.request(\"POST\", url, data=payload, headers=headers)"
   ]
  },
  {
   "cell_type": "code",
   "execution_count": 72,
   "metadata": {},
   "outputs": [
    {
     "name": "stdout",
     "output_type": "stream",
     "text": [
      "[{\"adminID\":\"101815\",\"started\":1511973148,\"conversationID\":\"layer:conversations3427d725-ed48-470e-8a53-22fe0b492204\",\"adminName\":\"Aldrick Loh\",\"replied\":1512101159,\"adminEmail\":\"aldrickloh.ssagroup@gmail.com\"}]\n"
     ]
    }
   ],
   "source": [
    "print(res.text)"
   ]
  },
  {
   "cell_type": "code",
   "execution_count": 73,
   "metadata": {
    "collapsed": true
   },
   "outputs": [],
   "source": [
    "# Explore data "
   ]
  },
  {
   "cell_type": "code",
   "execution_count": 74,
   "metadata": {},
   "outputs": [
    {
     "name": "stdout",
     "output_type": "stream",
     "text": [
      ".ipynb_checkpoints\n",
      "agents-responsiveness-20171201.csv\n",
      "conversations-20171201.csv\n",
      "layer_convo.ipynb\n",
      "retrieve_convo.ipynb\n"
     ]
    }
   ],
   "source": [
    "import os \n",
    "for i in os.listdir():\n",
    "    print(i)"
   ]
  },
  {
   "cell_type": "code",
   "execution_count": 75,
   "metadata": {
    "collapsed": true
   },
   "outputs": [],
   "source": [
    "import pandas as pd\n",
    "import matplotlib.pyplot as plt\n",
    "import seaborn as sns \n",
    "%matplotlib inline"
   ]
  },
  {
   "cell_type": "code",
   "execution_count": 106,
   "metadata": {
    "collapsed": true
   },
   "outputs": [],
   "source": [
    "convo = pd.read_csv(\"conversations-20171201.csv\")"
   ]
  },
  {
   "cell_type": "code",
   "execution_count": 107,
   "metadata": {},
   "outputs": [
    {
     "data": {
      "text/html": [
       "<div>\n",
       "<style>\n",
       "    .dataframe thead tr:only-child th {\n",
       "        text-align: right;\n",
       "    }\n",
       "\n",
       "    .dataframe thead th {\n",
       "        text-align: left;\n",
       "    }\n",
       "\n",
       "    .dataframe tbody tr th {\n",
       "        vertical-align: top;\n",
       "    }\n",
       "</style>\n",
       "<table border=\"1\" class=\"dataframe\">\n",
       "  <thead>\n",
       "    <tr style=\"text-align: right;\">\n",
       "      <th></th>\n",
       "      <th>conversationID</th>\n",
       "      <th>adminName</th>\n",
       "      <th>replied</th>\n",
       "      <th>adminEmail</th>\n",
       "      <th>adminID</th>\n",
       "      <th>started</th>\n",
       "    </tr>\n",
       "  </thead>\n",
       "  <tbody>\n",
       "    <tr>\n",
       "      <th>0</th>\n",
       "      <td>layer:conversations00049fd1-95ca-4d9a-b137-813...</td>\n",
       "      <td>Tay Chai Huat (Josh)</td>\n",
       "      <td>0</td>\n",
       "      <td>taychaihuat@hotmail.com</td>\n",
       "      <td>83269</td>\n",
       "      <td>1512094520</td>\n",
       "    </tr>\n",
       "    <tr>\n",
       "      <th>1</th>\n",
       "      <td>layer:conversations001988e7-1c8d-4576-8ecc-f33...</td>\n",
       "      <td>Lawrence Lim</td>\n",
       "      <td>0</td>\n",
       "      <td>law_sea_properties@hotmail.sg</td>\n",
       "      <td>185039</td>\n",
       "      <td>1511924282</td>\n",
       "    </tr>\n",
       "    <tr>\n",
       "      <th>2</th>\n",
       "      <td>layer:conversations00765a9b-4066-4cd2-9922-7d7...</td>\n",
       "      <td>Wendy Teo</td>\n",
       "      <td>0</td>\n",
       "      <td>wendy05@gmail.com</td>\n",
       "      <td>285581</td>\n",
       "      <td>1512048675</td>\n",
       "    </tr>\n",
       "  </tbody>\n",
       "</table>\n",
       "</div>"
      ],
      "text/plain": [
       "                                      conversationID             adminName  \\\n",
       "0  layer:conversations00049fd1-95ca-4d9a-b137-813...  Tay Chai Huat (Josh)   \n",
       "1  layer:conversations001988e7-1c8d-4576-8ecc-f33...          Lawrence Lim   \n",
       "2  layer:conversations00765a9b-4066-4cd2-9922-7d7...             Wendy Teo   \n",
       "\n",
       "   replied                     adminEmail  adminID     started  \n",
       "0        0        taychaihuat@hotmail.com    83269  1512094520  \n",
       "1        0  law_sea_properties@hotmail.sg   185039  1511924282  \n",
       "2        0              wendy05@gmail.com   285581  1512048675  "
      ]
     },
     "execution_count": 107,
     "metadata": {},
     "output_type": "execute_result"
    }
   ],
   "source": [
    "convo.head(3)"
   ]
  },
  {
   "cell_type": "code",
   "execution_count": 109,
   "metadata": {},
   "outputs": [
    {
     "data": {
      "text/html": [
       "<div>\n",
       "<style>\n",
       "    .dataframe thead tr:only-child th {\n",
       "        text-align: right;\n",
       "    }\n",
       "\n",
       "    .dataframe thead th {\n",
       "        text-align: left;\n",
       "    }\n",
       "\n",
       "    .dataframe tbody tr th {\n",
       "        vertical-align: top;\n",
       "    }\n",
       "</style>\n",
       "<table border=\"1\" class=\"dataframe\">\n",
       "  <thead>\n",
       "    <tr style=\"text-align: right;\">\n",
       "      <th></th>\n",
       "      <th>convoID</th>\n",
       "      <th>name</th>\n",
       "      <th>replied</th>\n",
       "      <th>email</th>\n",
       "      <th>adminID</th>\n",
       "      <th>started</th>\n",
       "    </tr>\n",
       "  </thead>\n",
       "  <tbody>\n",
       "    <tr>\n",
       "      <th>0</th>\n",
       "      <td>layer:conversations00049fd1-95ca-4d9a-b137-813...</td>\n",
       "      <td>Tay Chai Huat (Josh)</td>\n",
       "      <td>0</td>\n",
       "      <td>taychaihuat@hotmail.com</td>\n",
       "      <td>83269</td>\n",
       "      <td>1512094520</td>\n",
       "    </tr>\n",
       "    <tr>\n",
       "      <th>1</th>\n",
       "      <td>layer:conversations001988e7-1c8d-4576-8ecc-f33...</td>\n",
       "      <td>Lawrence Lim</td>\n",
       "      <td>0</td>\n",
       "      <td>law_sea_properties@hotmail.sg</td>\n",
       "      <td>185039</td>\n",
       "      <td>1511924282</td>\n",
       "    </tr>\n",
       "    <tr>\n",
       "      <th>2</th>\n",
       "      <td>layer:conversations00765a9b-4066-4cd2-9922-7d7...</td>\n",
       "      <td>Wendy Teo</td>\n",
       "      <td>0</td>\n",
       "      <td>wendy05@gmail.com</td>\n",
       "      <td>285581</td>\n",
       "      <td>1512048675</td>\n",
       "    </tr>\n",
       "  </tbody>\n",
       "</table>\n",
       "</div>"
      ],
      "text/plain": [
       "                                             convoID                  name  \\\n",
       "0  layer:conversations00049fd1-95ca-4d9a-b137-813...  Tay Chai Huat (Josh)   \n",
       "1  layer:conversations001988e7-1c8d-4576-8ecc-f33...          Lawrence Lim   \n",
       "2  layer:conversations00765a9b-4066-4cd2-9922-7d7...             Wendy Teo   \n",
       "\n",
       "   replied                          email  adminID     started  \n",
       "0        0        taychaihuat@hotmail.com    83269  1512094520  \n",
       "1        0  law_sea_properties@hotmail.sg   185039  1511924282  \n",
       "2        0              wendy05@gmail.com   285581  1512048675  "
      ]
     },
     "execution_count": 109,
     "metadata": {},
     "output_type": "execute_result"
    }
   ],
   "source": [
    "convo.columns = ['convoID','name','replied','email','adminID','started']\n",
    "convo.head(3)"
   ]
  },
  {
   "cell_type": "code",
   "execution_count": 110,
   "metadata": {},
   "outputs": [
    {
     "data": {
      "text/plain": [
       "14.980237154150197"
      ]
     },
     "execution_count": 110,
     "metadata": {},
     "output_type": "execute_result"
    }
   ],
   "source": [
    "convo_res = (convo['replied'].count() - convo[convo['replied']==0]['replied'].count()) / convo['replied'].count()*100\n",
    "convo_res"
   ]
  },
  {
   "cell_type": "code",
   "execution_count": 111,
   "metadata": {},
   "outputs": [
    {
     "data": {
      "text/plain": [
       "2530"
      ]
     },
     "execution_count": 111,
     "metadata": {},
     "output_type": "execute_result"
    }
   ],
   "source": [
    "convo['replied'].count()"
   ]
  },
  {
   "cell_type": "code",
   "execution_count": 112,
   "metadata": {
    "collapsed": true
   },
   "outputs": [],
   "source": [
    "res = pd.read_csv('agents-responsiveness-20171201.csv')"
   ]
  },
  {
   "cell_type": "code",
   "execution_count": 113,
   "metadata": {},
   "outputs": [
    {
     "data": {
      "text/html": [
       "<div>\n",
       "<style>\n",
       "    .dataframe thead tr:only-child th {\n",
       "        text-align: right;\n",
       "    }\n",
       "\n",
       "    .dataframe thead th {\n",
       "        text-align: left;\n",
       "    }\n",
       "\n",
       "    .dataframe tbody tr th {\n",
       "        vertical-align: top;\n",
       "    }\n",
       "</style>\n",
       "<table border=\"1\" class=\"dataframe\">\n",
       "  <thead>\n",
       "    <tr style=\"text-align: right;\">\n",
       "      <th></th>\n",
       "      <th>numberOfConversations</th>\n",
       "      <th>emailId</th>\n",
       "      <th>averageResponse</th>\n",
       "      <th>name</th>\n",
       "      <th>responseSeconds</th>\n",
       "    </tr>\n",
       "  </thead>\n",
       "  <tbody>\n",
       "    <tr>\n",
       "      <th>0</th>\n",
       "      <td>1</td>\n",
       "      <td>alanyap7@gmail.com</td>\n",
       "      <td>309.0</td>\n",
       "      <td>Alan Yap</td>\n",
       "      <td>309</td>\n",
       "    </tr>\n",
       "    <tr>\n",
       "      <th>1</th>\n",
       "      <td>1</td>\n",
       "      <td>clj.ashley@gmail.com</td>\n",
       "      <td>259431.0</td>\n",
       "      <td>Ashley Chia</td>\n",
       "      <td>259431</td>\n",
       "    </tr>\n",
       "    <tr>\n",
       "      <th>2</th>\n",
       "      <td>1</td>\n",
       "      <td>aldrickloh.ssagroup@gmail.com</td>\n",
       "      <td>128011.0</td>\n",
       "      <td>Aldrick Loh</td>\n",
       "      <td>128011</td>\n",
       "    </tr>\n",
       "  </tbody>\n",
       "</table>\n",
       "</div>"
      ],
      "text/plain": [
       "   numberOfConversations                        emailId  averageResponse  \\\n",
       "0                      1             alanyap7@gmail.com            309.0   \n",
       "1                      1           clj.ashley@gmail.com         259431.0   \n",
       "2                      1  aldrickloh.ssagroup@gmail.com         128011.0   \n",
       "\n",
       "          name  responseSeconds  \n",
       "0     Alan Yap              309  \n",
       "1  Ashley Chia           259431  \n",
       "2  Aldrick Loh           128011  "
      ]
     },
     "execution_count": 113,
     "metadata": {},
     "output_type": "execute_result"
    }
   ],
   "source": [
    "res.head(3)"
   ]
  },
  {
   "cell_type": "code",
   "execution_count": 114,
   "metadata": {
    "collapsed": true
   },
   "outputs": [],
   "source": [
    "res.columns = ['convo_no', 'email','avg_res', 'name', 'res_sec']"
   ]
  },
  {
   "cell_type": "code",
   "execution_count": 132,
   "metadata": {},
   "outputs": [
    {
     "data": {
      "text/html": [
       "<div>\n",
       "<style>\n",
       "    .dataframe thead tr:only-child th {\n",
       "        text-align: right;\n",
       "    }\n",
       "\n",
       "    .dataframe thead th {\n",
       "        text-align: left;\n",
       "    }\n",
       "\n",
       "    .dataframe tbody tr th {\n",
       "        vertical-align: top;\n",
       "    }\n",
       "</style>\n",
       "<table border=\"1\" class=\"dataframe\">\n",
       "  <thead>\n",
       "    <tr style=\"text-align: right;\">\n",
       "      <th></th>\n",
       "      <th>convo_no</th>\n",
       "      <th>email</th>\n",
       "      <th>avg_res</th>\n",
       "      <th>name</th>\n",
       "      <th>res_sec</th>\n",
       "      <th>res_h</th>\n",
       "    </tr>\n",
       "  </thead>\n",
       "  <tbody>\n",
       "    <tr>\n",
       "      <th>3</th>\n",
       "      <td>2</td>\n",
       "      <td>gerald.outofthebox@gmail.com</td>\n",
       "      <td>33614.0</td>\n",
       "      <td>Gerald Chan</td>\n",
       "      <td>67228</td>\n",
       "      <td>9.337222</td>\n",
       "    </tr>\n",
       "    <tr>\n",
       "      <th>20</th>\n",
       "      <td>2</td>\n",
       "      <td>cherylproperties@gmail.com</td>\n",
       "      <td>3250.5</td>\n",
       "      <td>Cheryl Lee</td>\n",
       "      <td>6501</td>\n",
       "      <td>0.902917</td>\n",
       "    </tr>\n",
       "    <tr>\n",
       "      <th>26</th>\n",
       "      <td>2</td>\n",
       "      <td>idaswl@gmail.com</td>\n",
       "      <td>62100.5</td>\n",
       "      <td>Ida Ho</td>\n",
       "      <td>124201</td>\n",
       "      <td>17.250139</td>\n",
       "    </tr>\n",
       "  </tbody>\n",
       "</table>\n",
       "</div>"
      ],
      "text/plain": [
       "    convo_no                         email  avg_res         name  res_sec  \\\n",
       "3          2  gerald.outofthebox@gmail.com  33614.0  Gerald Chan    67228   \n",
       "20         2    cherylproperties@gmail.com   3250.5   Cheryl Lee     6501   \n",
       "26         2              idaswl@gmail.com  62100.5       Ida Ho   124201   \n",
       "\n",
       "        res_h  \n",
       "3    9.337222  \n",
       "20   0.902917  \n",
       "26  17.250139  "
      ]
     },
     "execution_count": 132,
     "metadata": {},
     "output_type": "execute_result"
    }
   ],
   "source": [
    "res['res_h'] = res['res_sec'].div(3600) / res['convo_no']\n",
    "res[res['convo_no']==2].head(3)"
   ]
  },
  {
   "cell_type": "code",
   "execution_count": 121,
   "metadata": {},
   "outputs": [
    {
     "data": {
      "text/html": [
       "<div>\n",
       "<style>\n",
       "    .dataframe thead tr:only-child th {\n",
       "        text-align: right;\n",
       "    }\n",
       "\n",
       "    .dataframe thead th {\n",
       "        text-align: left;\n",
       "    }\n",
       "\n",
       "    .dataframe tbody tr th {\n",
       "        vertical-align: top;\n",
       "    }\n",
       "</style>\n",
       "<table border=\"1\" class=\"dataframe\">\n",
       "  <thead>\n",
       "    <tr style=\"text-align: right;\">\n",
       "      <th></th>\n",
       "      <th>convo_no</th>\n",
       "      <th>avg_res</th>\n",
       "      <th>res_sec</th>\n",
       "      <th>res_h</th>\n",
       "    </tr>\n",
       "  </thead>\n",
       "  <tbody>\n",
       "    <tr>\n",
       "      <th>count</th>\n",
       "      <td>324.000000</td>\n",
       "      <td>324.000000</td>\n",
       "      <td>324.000000</td>\n",
       "      <td>324.000000</td>\n",
       "    </tr>\n",
       "    <tr>\n",
       "      <th>mean</th>\n",
       "      <td>1.169753</td>\n",
       "      <td>35543.349023</td>\n",
       "      <td>42283.793210</td>\n",
       "      <td>9.873153</td>\n",
       "    </tr>\n",
       "    <tr>\n",
       "      <th>std</th>\n",
       "      <td>0.457695</td>\n",
       "      <td>47421.745996</td>\n",
       "      <td>59772.304876</td>\n",
       "      <td>13.172707</td>\n",
       "    </tr>\n",
       "    <tr>\n",
       "      <th>min</th>\n",
       "      <td>1.000000</td>\n",
       "      <td>8.000000</td>\n",
       "      <td>8.000000</td>\n",
       "      <td>0.002222</td>\n",
       "    </tr>\n",
       "    <tr>\n",
       "      <th>25%</th>\n",
       "      <td>1.000000</td>\n",
       "      <td>1818.250000</td>\n",
       "      <td>1818.250000</td>\n",
       "      <td>0.505069</td>\n",
       "    </tr>\n",
       "    <tr>\n",
       "      <th>50%</th>\n",
       "      <td>1.000000</td>\n",
       "      <td>12725.000000</td>\n",
       "      <td>12725.000000</td>\n",
       "      <td>3.534722</td>\n",
       "    </tr>\n",
       "    <tr>\n",
       "      <th>75%</th>\n",
       "      <td>1.000000</td>\n",
       "      <td>51152.500000</td>\n",
       "      <td>59965.750000</td>\n",
       "      <td>14.209028</td>\n",
       "    </tr>\n",
       "    <tr>\n",
       "      <th>max</th>\n",
       "      <td>4.000000</td>\n",
       "      <td>259431.000000</td>\n",
       "      <td>436285.000000</td>\n",
       "      <td>72.064167</td>\n",
       "    </tr>\n",
       "  </tbody>\n",
       "</table>\n",
       "</div>"
      ],
      "text/plain": [
       "         convo_no        avg_res        res_sec       res_h\n",
       "count  324.000000     324.000000     324.000000  324.000000\n",
       "mean     1.169753   35543.349023   42283.793210    9.873153\n",
       "std      0.457695   47421.745996   59772.304876   13.172707\n",
       "min      1.000000       8.000000       8.000000    0.002222\n",
       "25%      1.000000    1818.250000    1818.250000    0.505069\n",
       "50%      1.000000   12725.000000   12725.000000    3.534722\n",
       "75%      1.000000   51152.500000   59965.750000   14.209028\n",
       "max      4.000000  259431.000000  436285.000000   72.064167"
      ]
     },
     "execution_count": 121,
     "metadata": {},
     "output_type": "execute_result"
    }
   ],
   "source": [
    "res.describe()"
   ]
  },
  {
   "cell_type": "code",
   "execution_count": 122,
   "metadata": {
    "collapsed": true
   },
   "outputs": [],
   "source": [
    "sns.set_style('white')"
   ]
  },
  {
   "cell_type": "code",
   "execution_count": 135,
   "metadata": {},
   "outputs": [
    {
     "data": {
      "text/plain": [
       "<seaborn.axisgrid.FacetGrid at 0x20011943400>"
      ]
     },
     "execution_count": 135,
     "metadata": {},
     "output_type": "execute_result"
    },
    {
     "data": {
      "image/png": "[encoded data removed]",
      "text/plain": [
       "<matplotlib.figure.Figure at 0x20011971e80>"
      ]
     },
     "metadata": {},
     "output_type": "display_data"
    }
   ],
   "source": [
    "g = sns.FacetGrid(data=res, col='convo_no',size=3, aspect=1.1)\n",
    "g.map(plt.hist, 'res_h', bins=30)"
   ]
  },
  {
   "cell_type": "code",
   "execution_count": 124,
   "metadata": {},
   "outputs": [
    {
     "data": {
      "text/plain": [
       "<seaborn.axisgrid.FacetGrid at 0x2000ff8e358>"
      ]
     },
     "execution_count": 124,
     "metadata": {},
     "output_type": "execute_result"
    },
    {
     "data": {
      "image/png": "[encoded data removed]",
      "text/plain": [
       "<matplotlib.figure.Figure at 0x20010079630>"
      ]
     },
     "metadata": {},
     "output_type": "display_data"
    }
   ],
   "source": [
    "g = sns.FacetGrid(data=res, size=6, aspect=2)\n",
    "g.map(plt.hist, 'res_h', bins=40)"
   ]
  },
  {
   "cell_type": "code",
   "execution_count": 160,
   "metadata": {},
   "outputs": [
    {
     "data": {
      "text/plain": [
       "<matplotlib.axes._subplots.AxesSubplot at 0x20011bdd160>"
      ]
     },
     "execution_count": 160,
     "metadata": {},
     "output_type": "execute_result"
    },
    {
     "data": {
      "image/png": "[encoded data removed]",
      "text/plain": [
       "<matplotlib.figure.Figure at 0x20011cd2908>"
      ]
     },
     "metadata": {},
     "output_type": "display_data"
    }
   ],
   "source": [
    "plt.figure(figsize=(12,6))\n",
    "sns.boxplot(data=res, x='convo_no',y='res_h',palette='rainbow')"
   ]
  },
  {
   "cell_type": "code",
   "execution_count": 164,
   "metadata": {},
   "outputs": [
    {
     "data": {
      "text/plain": [
       "<matplotlib.axes._subplots.AxesSubplot at 0x2001245d5c0>"
      ]
     },
     "execution_count": 164,
     "metadata": {},
     "output_type": "execute_result"
    },
    {
     "data": {
      "image/png": "[encoded data removed]",
      "text/plain": [
       "<matplotlib.figure.Figure at 0x2001245de10>"
      ]
     },
     "metadata": {},
     "output_type": "display_data"
    }
   ],
   "source": [
    "plt.figure(figsize=(12,6))\n",
    "sns.swarmplot(data=res, x='convo_no',y='res_h')"
   ]
  },
  {
   "cell_type": "code",
   "execution_count": 125,
   "metadata": {},
   "outputs": [
    {
     "data": {
      "text/plain": [
       "41.975308641975303"
      ]
     },
     "execution_count": 125,
     "metadata": {},
     "output_type": "execute_result"
    }
   ],
   "source": [
    "res[res['res_h'] <= 2]['res_h'].count() / res['res_h'].count()*100"
   ]
  },
  {
   "cell_type": "code",
   "execution_count": 126,
   "metadata": {},
   "outputs": [
    {
     "data": {
      "text/plain": [
       "87.345679012345684"
      ]
     },
     "execution_count": 126,
     "metadata": {},
     "output_type": "execute_result"
    }
   ],
   "source": [
    "res[res['res_h'] <= 24]['res_h'].count() / res['res_h'].count()*100"
   ]
  },
  {
   "cell_type": "code",
   "execution_count": 128,
   "metadata": {},
   "outputs": [
    {
     "data": {
      "text/plain": [
       "0.0030864197530864196"
      ]
     },
     "execution_count": 128,
     "metadata": {},
     "output_type": "execute_result"
    }
   ],
   "source": [
    "res[res['res_h']>70]['res_h'].count() / res['res_h'].count()"
   ]
  },
  {
   "cell_type": "code",
   "execution_count": 153,
   "metadata": {},
   "outputs": [
    {
     "data": {
      "text/plain": [
       "convo_no                       1\n",
       "email       clj.ashley@gmail.com\n",
       "avg_res                   259431\n",
       "name                 Ashley Chia\n",
       "res_sec                   259431\n",
       "res_h                    72.0642\n",
       "Name: 1, dtype: object"
      ]
     },
     "execution_count": 153,
     "metadata": {},
     "output_type": "execute_result"
    }
   ],
   "source": [
    "res.iloc[res['res_h'].idxmax(),:]"
   ]
  },
  {
   "cell_type": "code",
   "execution_count": 154,
   "metadata": {},
   "outputs": [
    {
     "data": {
      "text/plain": [
       "convo_no                             1\n",
       "email       raymond.tung.era@gmail.com\n",
       "avg_res                              8\n",
       "name                      Raymond Tung\n",
       "res_sec                              8\n",
       "res_h                       0.00222222\n",
       "Name: 120, dtype: object"
      ]
     },
     "execution_count": 154,
     "metadata": {},
     "output_type": "execute_result"
    }
   ],
   "source": [
    "res.iloc[res['res_h'].idxmin(),:]"
   ]
  },
  {
   "cell_type": "code",
   "execution_count": 178,
   "metadata": {},
   "outputs": [],
   "source": [
    "more_than_24 = res[res['res_h'] > 24][['email','res_h']]\n",
    "more_than_24.to_csv('more_than_24.csv',sep=',',index=False)"
   ]
  },
  {
   "cell_type": "code",
   "execution_count": 177,
   "metadata": {},
   "outputs": [],
   "source": [
    "no_response = convo[convo['replied']==0][['email','name']]\n",
    "no_response.to_csv('no_response.csv',sep=',',index=False)"
   ]
  }
 ],
 "metadata": {
  "kernelspec": {
   "display_name": "Python 3",
   "language": "python",
   "name": "python3"
  },
  "language_info": {
   "codemirror_mode": {
    "name": "ipython",
    "version": 3
   },
   "file_extension": ".py",
   "mimetype": "text/x-python",
   "name": "python",
   "nbconvert_exporter": "python",
   "pygments_lexer": "ipython3",
   "version": "3.6.3"
  }
 },
 "nbformat": 4,
 "nbformat_minor": 2
}
