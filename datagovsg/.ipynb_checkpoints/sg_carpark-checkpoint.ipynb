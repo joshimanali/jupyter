{
 "cells": [
  {
   "cell_type": "code",
   "execution_count": 119,
   "metadata": {
    "collapsed": false
   },
   "outputs": [],
   "source": [
    "import requests, json, pandas as pd \n",
    "from pandas.io.json import json_normalize\n",
    "\n",
    "url = \"https://api.data.gov.sg/v1/transport/carpark-availability\"\n",
    "querystring = {\"date_time\":\"2017-09-15T09:45:00\"}\n",
    "headers = {\n",
    "    'api-key': \"iX9I2oKpgm89SyzFSEWyQTT0w8QF9qNF\",\n",
    "    'cache-control': \"cache\",\n",
    "    }\n",
    "\n",
    "r = requests.get(url, headers=headers, params=querystring)\n",
    "raw = r.text\n",
    "data = json.loads(raw)\n",
    "\n",
    "for row in data['items'][0]['carpark_data']:\n",
    "    row['carpark_info'] = row['carpark_info'][0]\n",
    "    \n",
    "df = json_normalize(data2)"
   ]
  },
  {
   "cell_type": "code",
   "execution_count": 134,
   "metadata": {
    "collapsed": false,
    "scrolled": false
   },
   "outputs": [],
   "source": [
    "df = df.rename(columns={'carpark_info.lot_type':'lot type', 'carpark_info.lots_available':'lots available', 'carpark_info.total_lots':'total lots'})"
   ]
  },
  {
   "cell_type": "code",
   "execution_count": 129,
   "metadata": {
    "collapsed": false
   },
   "outputs": [
    {
     "name": "stdout",
     "output_type": "stream",
     "text": [
      "<class 'pandas.core.frame.DataFrame'>\n",
      "RangeIndex: 1592 entries, 0 to 1591\n",
      "Data columns (total 5 columns):\n",
      "carpark_info.lot_type          1592 non-null object\n",
      "carpark_info.lots_available    1592 non-null object\n",
      "carpark_info.total_lots        1592 non-null object\n",
      "carpark_number                 1592 non-null object\n",
      "update_datetime                1592 non-null object\n",
      "dtypes: object(5)\n",
      "memory usage: 62.3+ KB\n"
     ]
    }
   ],
   "source": [
    "df.info()"
   ]
  },
  {
   "cell_type": "code",
   "execution_count": 141,
   "metadata": {
    "collapsed": false
   },
   "outputs": [
    {
     "data": {
      "text/plain": [
       "dtype('int64')"
      ]
     },
     "execution_count": 141,
     "metadata": {},
     "output_type": "execute_result"
    }
   ],
   "source": [
    "df[['lots available','total lots']] = df[['lots available', 'total lots']].apply(pd.to_numeric, errors='coerce')\n",
    "df['lots available'].dtype"
   ]
  },
  {
   "cell_type": "code",
   "execution_count": 143,
   "metadata": {
    "collapsed": false
   },
   "outputs": [
    {
     "data": {
      "text/html": [
       "<div>\n",
       "<table border=\"1\" class=\"dataframe\">\n",
       "  <thead>\n",
       "    <tr style=\"text-align: right;\">\n",
       "      <th></th>\n",
       "      <th>lot type</th>\n",
       "      <th>lots available</th>\n",
       "      <th>total lots</th>\n",
       "      <th>carpark_number</th>\n",
       "      <th>update_datetime</th>\n",
       "    </tr>\n",
       "  </thead>\n",
       "  <tbody>\n",
       "    <tr>\n",
       "      <th>0</th>\n",
       "      <td>C</td>\n",
       "      <td>0</td>\n",
       "      <td>104</td>\n",
       "      <td>HE12</td>\n",
       "      <td>2017-09-15T09:43:54</td>\n",
       "    </tr>\n",
       "    <tr>\n",
       "      <th>1</th>\n",
       "      <td>C</td>\n",
       "      <td>242</td>\n",
       "      <td>583</td>\n",
       "      <td>HLM</td>\n",
       "      <td>2017-09-15T09:43:51</td>\n",
       "    </tr>\n",
       "    <tr>\n",
       "      <th>2</th>\n",
       "      <td>C</td>\n",
       "      <td>190</td>\n",
       "      <td>329</td>\n",
       "      <td>RHM</td>\n",
       "      <td>2017-09-15T09:43:52</td>\n",
       "    </tr>\n",
       "  </tbody>\n",
       "</table>\n",
       "</div>"
      ],
      "text/plain": [
       "  lot type  lots available  total lots carpark_number      update_datetime\n",
       "0        C               0         104           HE12  2017-09-15T09:43:54\n",
       "1        C             242         583            HLM  2017-09-15T09:43:51\n",
       "2        C             190         329            RHM  2017-09-15T09:43:52"
      ]
     },
     "execution_count": 143,
     "metadata": {},
     "output_type": "execute_result"
    }
   ],
   "source": [
    "df.head(3)"
   ]
  },
  {
   "cell_type": "code",
   "execution_count": 157,
   "metadata": {
    "collapsed": false
   },
   "outputs": [
    {
     "data": {
      "text/html": [
       "<div>\n",
       "<table border=\"1\" class=\"dataframe\">\n",
       "  <thead>\n",
       "    <tr style=\"text-align: right;\">\n",
       "      <th></th>\n",
       "      <th>carpark_number</th>\n",
       "      <th>lots available</th>\n",
       "    </tr>\n",
       "  </thead>\n",
       "  <tbody>\n",
       "    <tr>\n",
       "      <th>529</th>\n",
       "      <td>BJ49</td>\n",
       "      <td>3165</td>\n",
       "    </tr>\n",
       "  </tbody>\n",
       "</table>\n",
       "</div>"
      ],
      "text/plain": [
       "    carpark_number  lots available\n",
       "529           BJ49            3165"
      ]
     },
     "execution_count": 157,
     "metadata": {},
     "output_type": "execute_result"
    }
   ],
   "source": [
    "df[['carpark_number','lots available']].loc[[df['lots available'].idxmax()]]"
   ]
  },
  {
   "cell_type": "code",
   "execution_count": 156,
   "metadata": {
    "collapsed": false
   },
   "outputs": [
    {
     "data": {
      "text/html": [
       "<div>\n",
       "<table border=\"1\" class=\"dataframe\">\n",
       "  <thead>\n",
       "    <tr style=\"text-align: right;\">\n",
       "      <th></th>\n",
       "      <th>carpark_number</th>\n",
       "      <th>lots available</th>\n",
       "    </tr>\n",
       "  </thead>\n",
       "  <tbody>\n",
       "    <tr>\n",
       "      <th>0</th>\n",
       "      <td>HE12</td>\n",
       "      <td>0</td>\n",
       "    </tr>\n",
       "  </tbody>\n",
       "</table>\n",
       "</div>"
      ],
      "text/plain": [
       "  carpark_number  lots available\n",
       "0           HE12               0"
      ]
     },
     "execution_count": 156,
     "metadata": {},
     "output_type": "execute_result"
    }
   ],
   "source": [
    "df[['carpark_number','lots available']].loc[[df['lots available'].idxmin()]]"
   ]
  }
 ],
 "metadata": {
  "kernelspec": {
   "display_name": "Python 3",
   "language": "python",
   "name": "python3"
  },
  "language_info": {
   "codemirror_mode": {
    "name": "ipython",
    "version": 3
   },
   "file_extension": ".py",
   "mimetype": "text/x-python",
   "name": "python",
   "nbconvert_exporter": "python",
   "pygments_lexer": "ipython3",
   "version": "3.5.2"
  }
 },
 "nbformat": 4,
 "nbformat_minor": 2
}
