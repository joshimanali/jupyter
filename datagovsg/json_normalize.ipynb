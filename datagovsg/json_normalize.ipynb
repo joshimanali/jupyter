{
 "cells": [
  {
   "cell_type": "code",
   "execution_count": 4,
   "metadata": {
    "collapsed": false
   },
   "outputs": [
    {
     "name": "stdout",
     "output_type": "stream",
     "text": [
      "{'status': 'OK', 'results': [{'elevation': 241.9638366699219, 'resolution': 9.543951988220215, 'location': {'lng': -81.205203, 'lat': 42.974049}}, {'elevation': 246.0401153564453, 'resolution': 9.543951988220215, 'location': {'lng': -81.195755, 'lat': 42.974298}}]}\n"
     ]
    }
   ],
   "source": [
    "import requests\n",
    "import json\n",
    "from pandas.io.json import json_normalize\n",
    "\n",
    "path1 = '42.974049,-81.205203|42.974298,-81.195755'\n",
    "r = requests.get(url = 'http://maps.googleapis.com/maps/api/elevation/json?locations='+path1+'&sensor=false')\n",
    "\n",
    "elevations = r.text\n",
    "data = json.loads(elevations)\n",
    "print(data)"
   ]
  },
  {
   "cell_type": "code",
   "execution_count": 3,
   "metadata": {
    "collapsed": false
   },
   "outputs": [
    {
     "data": {
      "text/html": [
       "<div>\n",
       "<table border=\"1\" class=\"dataframe\">\n",
       "  <thead>\n",
       "    <tr style=\"text-align: right;\">\n",
       "      <th></th>\n",
       "      <th>elevation</th>\n",
       "      <th>location.lat</th>\n",
       "      <th>location.lng</th>\n",
       "      <th>resolution</th>\n",
       "    </tr>\n",
       "  </thead>\n",
       "  <tbody>\n",
       "    <tr>\n",
       "      <th>0</th>\n",
       "      <td>241.963837</td>\n",
       "      <td>42.974049</td>\n",
       "      <td>-81.205203</td>\n",
       "      <td>9.543952</td>\n",
       "    </tr>\n",
       "    <tr>\n",
       "      <th>1</th>\n",
       "      <td>246.040115</td>\n",
       "      <td>42.974298</td>\n",
       "      <td>-81.195755</td>\n",
       "      <td>9.543952</td>\n",
       "    </tr>\n",
       "  </tbody>\n",
       "</table>\n",
       "</div>"
      ],
      "text/plain": [
       "    elevation  location.lat  location.lng  resolution\n",
       "0  241.963837     42.974049    -81.205203    9.543952\n",
       "1  246.040115     42.974298    -81.195755    9.543952"
      ]
     },
     "execution_count": 3,
     "metadata": {},
     "output_type": "execute_result"
    }
   ],
   "source": [
    "json_normalize(data['results'])"
   ]
  }
 ],
 "metadata": {
  "kernelspec": {
   "display_name": "Python 3",
   "language": "python",
   "name": "python3"
  },
  "language_info": {
   "codemirror_mode": {
    "name": "ipython",
    "version": 3
   },
   "file_extension": ".py",
   "mimetype": "text/x-python",
   "name": "python",
   "nbconvert_exporter": "python",
   "pygments_lexer": "ipython3",
   "version": "3.5.2"
  }
 },
 "nbformat": 4,
 "nbformat_minor": 2
}
