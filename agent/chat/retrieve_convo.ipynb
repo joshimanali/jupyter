{
 "cells": [
  {
   "cell_type": "markdown",
   "metadata": {},
   "source": [
    "# Analysis on Agent Response Rate and Time"
   ]
  },
  {
   "cell_type": "code",
   "execution_count": 1,
   "metadata": {
    "collapsed": true
   },
   "outputs": [],
   "source": [
    "import pandas as pd\n",
    "import matplotlib.pyplot as plt\n",
    "import seaborn as sns \n",
    "%matplotlib inline"
   ]
  },
  {
   "cell_type": "code",
   "execution_count": 2,
   "metadata": {
    "collapsed": true
   },
   "outputs": [],
   "source": [
    "convo = pd.read_csv(\"conversations-20171204.csv\")"
   ]
  },
  {
   "cell_type": "code",
   "execution_count": 3,
   "metadata": {},
   "outputs": [
    {
     "data": {
      "text/html": [
       "<div>\n",
       "<style>\n",
       "    .dataframe thead tr:only-child th {\n",
       "        text-align: right;\n",
       "    }\n",
       "\n",
       "    .dataframe thead th {\n",
       "        text-align: left;\n",
       "    }\n",
       "\n",
       "    .dataframe tbody tr th {\n",
       "        vertical-align: top;\n",
       "    }\n",
       "</style>\n",
       "<table border=\"1\" class=\"dataframe\">\n",
       "  <thead>\n",
       "    <tr style=\"text-align: right;\">\n",
       "      <th></th>\n",
       "      <th>conversationID</th>\n",
       "      <th>adminName</th>\n",
       "      <th>replied</th>\n",
       "      <th>adminEmail</th>\n",
       "      <th>adminID</th>\n",
       "      <th>started</th>\n",
       "    </tr>\n",
       "  </thead>\n",
       "  <tbody>\n",
       "    <tr>\n",
       "      <th>0</th>\n",
       "      <td>layer:conversations00049fd1-95ca-4d9a-b137-813...</td>\n",
       "      <td>Tay Chai Huat (Josh)</td>\n",
       "      <td>0</td>\n",
       "      <td>taychaihuat@hotmail.com</td>\n",
       "      <td>83269</td>\n",
       "      <td>1512094520</td>\n",
       "    </tr>\n",
       "    <tr>\n",
       "      <th>1</th>\n",
       "      <td>layer:conversations001988e7-1c8d-4576-8ecc-f33...</td>\n",
       "      <td>Lawrence Lim</td>\n",
       "      <td>0</td>\n",
       "      <td>law_sea_properties@hotmail.sg</td>\n",
       "      <td>185039</td>\n",
       "      <td>1511924282</td>\n",
       "    </tr>\n",
       "    <tr>\n",
       "      <th>2</th>\n",
       "      <td>layer:conversations0029a632-2dc4-42f9-ad1a-df5...</td>\n",
       "      <td>Cheryl Aw</td>\n",
       "      <td>1512144832</td>\n",
       "      <td>awcheryl88@gmail.com</td>\n",
       "      <td>285722</td>\n",
       "      <td>1512139093</td>\n",
       "    </tr>\n",
       "  </tbody>\n",
       "</table>\n",
       "</div>"
      ],
      "text/plain": [
       "                                      conversationID             adminName  \\\n",
       "0  layer:conversations00049fd1-95ca-4d9a-b137-813...  Tay Chai Huat (Josh)   \n",
       "1  layer:conversations001988e7-1c8d-4576-8ecc-f33...          Lawrence Lim   \n",
       "2  layer:conversations0029a632-2dc4-42f9-ad1a-df5...             Cheryl Aw   \n",
       "\n",
       "      replied                     adminEmail  adminID     started  \n",
       "0           0        taychaihuat@hotmail.com    83269  1512094520  \n",
       "1           0  law_sea_properties@hotmail.sg   185039  1511924282  \n",
       "2  1512144832           awcheryl88@gmail.com   285722  1512139093  "
      ]
     },
     "execution_count": 3,
     "metadata": {},
     "output_type": "execute_result"
    }
   ],
   "source": [
    "convo.head(3)"
   ]
  },
  {
   "cell_type": "code",
   "execution_count": 4,
   "metadata": {},
   "outputs": [
    {
     "data": {
      "text/html": [
       "<div>\n",
       "<style>\n",
       "    .dataframe thead tr:only-child th {\n",
       "        text-align: right;\n",
       "    }\n",
       "\n",
       "    .dataframe thead th {\n",
       "        text-align: left;\n",
       "    }\n",
       "\n",
       "    .dataframe tbody tr th {\n",
       "        vertical-align: top;\n",
       "    }\n",
       "</style>\n",
       "<table border=\"1\" class=\"dataframe\">\n",
       "  <thead>\n",
       "    <tr style=\"text-align: right;\">\n",
       "      <th></th>\n",
       "      <th>convo id</th>\n",
       "      <th>name</th>\n",
       "      <th>replied</th>\n",
       "      <th>email</th>\n",
       "      <th>admin id</th>\n",
       "      <th>started</th>\n",
       "    </tr>\n",
       "  </thead>\n",
       "  <tbody>\n",
       "    <tr>\n",
       "      <th>0</th>\n",
       "      <td>layer:conversations00049fd1-95ca-4d9a-b137-813...</td>\n",
       "      <td>Tay Chai Huat (Josh)</td>\n",
       "      <td>0</td>\n",
       "      <td>taychaihuat@hotmail.com</td>\n",
       "      <td>83269</td>\n",
       "      <td>1512094520</td>\n",
       "    </tr>\n",
       "    <tr>\n",
       "      <th>1</th>\n",
       "      <td>layer:conversations001988e7-1c8d-4576-8ecc-f33...</td>\n",
       "      <td>Lawrence Lim</td>\n",
       "      <td>0</td>\n",
       "      <td>law_sea_properties@hotmail.sg</td>\n",
       "      <td>185039</td>\n",
       "      <td>1511924282</td>\n",
       "    </tr>\n",
       "    <tr>\n",
       "      <th>2</th>\n",
       "      <td>layer:conversations0029a632-2dc4-42f9-ad1a-df5...</td>\n",
       "      <td>Cheryl Aw</td>\n",
       "      <td>1512144832</td>\n",
       "      <td>awcheryl88@gmail.com</td>\n",
       "      <td>285722</td>\n",
       "      <td>1512139093</td>\n",
       "    </tr>\n",
       "  </tbody>\n",
       "</table>\n",
       "</div>"
      ],
      "text/plain": [
       "                                            convo id                  name  \\\n",
       "0  layer:conversations00049fd1-95ca-4d9a-b137-813...  Tay Chai Huat (Josh)   \n",
       "1  layer:conversations001988e7-1c8d-4576-8ecc-f33...          Lawrence Lim   \n",
       "2  layer:conversations0029a632-2dc4-42f9-ad1a-df5...             Cheryl Aw   \n",
       "\n",
       "      replied                          email  admin id     started  \n",
       "0           0        taychaihuat@hotmail.com     83269  1512094520  \n",
       "1           0  law_sea_properties@hotmail.sg    185039  1511924282  \n",
       "2  1512144832           awcheryl88@gmail.com    285722  1512139093  "
      ]
     },
     "execution_count": 4,
     "metadata": {},
     "output_type": "execute_result"
    }
   ],
   "source": [
    "convo.columns = ['convo id','name','replied','email','admin id','started']\n",
    "convo.head(3)"
   ]
  },
  {
   "cell_type": "code",
   "execution_count": 7,
   "metadata": {},
   "outputs": [
    {
     "data": {
      "text/plain": [
       "email\n",
       "chriskohkk@gmail.com            5\n",
       "gerald.outofthebox@gmail.com    5\n",
       "desmondliu.era@gmail.com        5\n",
       "Bernardteo.era@gmail.com        5\n",
       "alan1tsui@yahoo.com.sg          5\n",
       "Name: replied, dtype: int64"
      ]
     },
     "execution_count": 7,
     "metadata": {},
     "output_type": "execute_result"
    }
   ],
   "source": [
    "convo_email = convo[convo['replied']!=0].groupby('email')\n",
    "convo_email['replied'].count().sort_values(ascending=False).head()"
   ]
  },
  {
   "cell_type": "markdown",
   "metadata": {},
   "source": [
    "# Agent Response Rate"
   ]
  },
  {
   "cell_type": "code",
   "execution_count": 25,
   "metadata": {},
   "outputs": [],
   "source": [
    "all_agent = convo.groupby('email').count()"
   ]
  },
  {
   "cell_type": "code",
   "execution_count": 36,
   "metadata": {},
   "outputs": [
    {
     "data": {
      "text/plain": [
       "Text(0.5,0,'enq')"
      ]
     },
     "execution_count": 36,
     "metadata": {},
     "output_type": "execute_result"
    },
    {
     "data": {
      "image/png": "[encoded data removed]",
      "text/plain": [
       "<matplotlib.figure.Figure at 0x29feb9eb240>"
      ]
     },
     "metadata": {},
     "output_type": "display_data"
    }
   ],
   "source": [
    "plt.figure(figsize=(8,6))\n",
    "sns.countplot(all_agent['started'].sort_values(ascending=False))\n",
    "plt.xlabel('enq')"
   ]
  },
  {
   "cell_type": "code",
   "execution_count": 43,
   "metadata": {},
   "outputs": [
    {
     "data": {
      "text/plain": [
       "0.68375325803649001"
      ]
     },
     "execution_count": 43,
     "metadata": {},
     "output_type": "execute_result"
    }
   ],
   "source": [
    "all_agent[all_agent['started'] == 1]['started'].count() / all_agent['started'].count()"
   ]
  },
  {
   "cell_type": "code",
   "execution_count": 44,
   "metadata": {},
   "outputs": [
    {
     "data": {
      "text/plain": [
       "email\n",
       "sweesiongaw@gmail.com    33\n",
       "Name: started, dtype: int64"
      ]
     },
     "execution_count": 44,
     "metadata": {},
     "output_type": "execute_result"
    }
   ],
   "source": [
    "all_agent[all_agent['started'] == 33]['started']"
   ]
  },
  {
   "cell_type": "code",
   "execution_count": 360,
   "metadata": {},
   "outputs": [
    {
     "data": {
      "text/plain": [
       "count    718.000000\n",
       "mean      83.425631\n",
       "std       24.973001\n",
       "min        6.666667\n",
       "25%       57.857143\n",
       "50%      100.000000\n",
       "75%      100.000000\n",
       "max      100.000000\n",
       "Name: replied, dtype: float64"
      ]
     },
     "execution_count": 360,
     "metadata": {},
     "output_type": "execute_result"
    }
   ],
   "source": [
    "agent_res = convo_email['replied'].count() / all_agent['replied'] * 100\n",
    "agent_res = agent_res.dropna()\n",
    "agent_res.describe()"
   ]
  },
  {
   "cell_type": "code",
   "execution_count": 376,
   "metadata": {
    "collapsed": true
   },
   "outputs": [],
   "source": [
    "agent_res.sort_values(ascending=False).to_csv('agent res.csv',sep=',')"
   ]
  },
  {
   "cell_type": "code",
   "execution_count": 362,
   "metadata": {},
   "outputs": [
    {
     "data": {
      "text/plain": [
       "<matplotlib.axes._subplots.AxesSubplot at 0x26569ca4ac8>"
      ]
     },
     "execution_count": 362,
     "metadata": {},
     "output_type": "execute_result"
    },
    {
     "data": {
      "image/png": "[encoded data removed]",
      "text/plain": [
       "<matplotlib.figure.Figure at 0x26569ca47b8>"
      ]
     },
     "metadata": {},
     "output_type": "display_data"
    }
   ],
   "source": [
    "plt.figure(figsize=(8,4))\n",
    "agent_res.sort_values(ascending=False).hist(bins=5)"
   ]
  },
  {
   "cell_type": "code",
   "execution_count": 363,
   "metadata": {},
   "outputs": [
    {
     "data": {
      "text/plain": [
       "<matplotlib.axes._subplots.AxesSubplot at 0x2656a766588>"
      ]
     },
     "execution_count": 363,
     "metadata": {},
     "output_type": "execute_result"
    },
    {
     "data": {
      "image/png": "[encoded data removed]",
      "text/plain": [
       "<matplotlib.figure.Figure at 0x2656a58efd0>"
      ]
     },
     "metadata": {},
     "output_type": "display_data"
    }
   ],
   "source": [
    "sns.violinplot(agent_res.sort_values(ascending=False),palette='rainbow')"
   ]
  },
  {
   "cell_type": "markdown",
   "metadata": {},
   "source": [
    "# Replied Conversations "
   ]
  },
  {
   "cell_type": "code",
   "execution_count": 237,
   "metadata": {},
   "outputs": [
    {
     "data": {
      "text/plain": [
       "5379"
      ]
     },
     "execution_count": 237,
     "metadata": {},
     "output_type": "execute_result"
    }
   ],
   "source": [
    "convo['replied'].count()"
   ]
  },
  {
   "cell_type": "code",
   "execution_count": 238,
   "metadata": {},
   "outputs": [
    {
     "data": {
      "text/plain": [
       "967"
      ]
     },
     "execution_count": 238,
     "metadata": {},
     "output_type": "execute_result"
    }
   ],
   "source": [
    "convo[convo['replied']!=0]['replied'].count()"
   ]
  },
  {
   "cell_type": "code",
   "execution_count": 239,
   "metadata": {},
   "outputs": [
    {
     "data": {
      "text/plain": [
       "17.977319204313069"
      ]
     },
     "execution_count": 239,
     "metadata": {},
     "output_type": "execute_result"
    }
   ],
   "source": [
    "convo_res = convo[convo['replied']!=0]['replied'].count() / convo['replied'].count() * 100\n",
    "convo_res"
   ]
  },
  {
   "cell_type": "markdown",
   "metadata": {},
   "source": [
    "# Response Time"
   ]
  },
  {
   "cell_type": "code",
   "execution_count": 45,
   "metadata": {
    "collapsed": true
   },
   "outputs": [],
   "source": [
    "res = pd.read_csv('agent-responsiveness-20171204.csv')"
   ]
  },
  {
   "cell_type": "code",
   "execution_count": 46,
   "metadata": {},
   "outputs": [
    {
     "data": {
      "text/plain": [
       "(718, 5)"
      ]
     },
     "execution_count": 46,
     "metadata": {},
     "output_type": "execute_result"
    }
   ],
   "source": [
    "res.shape"
   ]
  },
  {
   "cell_type": "code",
   "execution_count": 47,
   "metadata": {},
   "outputs": [
    {
     "data": {
      "text/html": [
       "<div>\n",
       "<style>\n",
       "    .dataframe thead tr:only-child th {\n",
       "        text-align: right;\n",
       "    }\n",
       "\n",
       "    .dataframe thead th {\n",
       "        text-align: left;\n",
       "    }\n",
       "\n",
       "    .dataframe tbody tr th {\n",
       "        vertical-align: top;\n",
       "    }\n",
       "</style>\n",
       "<table border=\"1\" class=\"dataframe\">\n",
       "  <thead>\n",
       "    <tr style=\"text-align: right;\">\n",
       "      <th></th>\n",
       "      <th>averageResponse</th>\n",
       "      <th>name</th>\n",
       "      <th>responseSeconds</th>\n",
       "      <th>numberOfConversations</th>\n",
       "      <th>emailId</th>\n",
       "    </tr>\n",
       "  </thead>\n",
       "  <tbody>\n",
       "    <tr>\n",
       "      <th>0</th>\n",
       "      <td>309.000000</td>\n",
       "      <td>Alan Yap</td>\n",
       "      <td>309</td>\n",
       "      <td>1</td>\n",
       "      <td>alanyap7@gmail.com</td>\n",
       "    </tr>\n",
       "    <tr>\n",
       "      <th>1</th>\n",
       "      <td>94397.333333</td>\n",
       "      <td>Ashley Chia</td>\n",
       "      <td>283192</td>\n",
       "      <td>3</td>\n",
       "      <td>clj.ashley@gmail.com</td>\n",
       "    </tr>\n",
       "    <tr>\n",
       "      <th>2</th>\n",
       "      <td>32515.000000</td>\n",
       "      <td>Christopher Ng</td>\n",
       "      <td>130060</td>\n",
       "      <td>4</td>\n",
       "      <td>jasmine.chan@orangetee.com</td>\n",
       "    </tr>\n",
       "  </tbody>\n",
       "</table>\n",
       "</div>"
      ],
      "text/plain": [
       "   averageResponse            name  responseSeconds  numberOfConversations  \\\n",
       "0       309.000000        Alan Yap              309                      1   \n",
       "1     94397.333333     Ashley Chia           283192                      3   \n",
       "2     32515.000000  Christopher Ng           130060                      4   \n",
       "\n",
       "                      emailId  \n",
       "0          alanyap7@gmail.com  \n",
       "1        clj.ashley@gmail.com  \n",
       "2  jasmine.chan@orangetee.com  "
      ]
     },
     "execution_count": 47,
     "metadata": {},
     "output_type": "execute_result"
    }
   ],
   "source": [
    "res.head(3)"
   ]
  },
  {
   "cell_type": "code",
   "execution_count": 48,
   "metadata": {},
   "outputs": [
    {
     "data": {
      "text/html": [
       "<div>\n",
       "<style>\n",
       "    .dataframe thead tr:only-child th {\n",
       "        text-align: right;\n",
       "    }\n",
       "\n",
       "    .dataframe thead th {\n",
       "        text-align: left;\n",
       "    }\n",
       "\n",
       "    .dataframe tbody tr th {\n",
       "        vertical-align: top;\n",
       "    }\n",
       "</style>\n",
       "<table border=\"1\" class=\"dataframe\">\n",
       "  <thead>\n",
       "    <tr style=\"text-align: right;\">\n",
       "      <th></th>\n",
       "      <th>avg_res</th>\n",
       "      <th>name</th>\n",
       "      <th>res_sec</th>\n",
       "      <th>convo_no</th>\n",
       "      <th>email</th>\n",
       "    </tr>\n",
       "  </thead>\n",
       "  <tbody>\n",
       "    <tr>\n",
       "      <th>0</th>\n",
       "      <td>309.000000</td>\n",
       "      <td>Alan Yap</td>\n",
       "      <td>309</td>\n",
       "      <td>1</td>\n",
       "      <td>alanyap7@gmail.com</td>\n",
       "    </tr>\n",
       "    <tr>\n",
       "      <th>1</th>\n",
       "      <td>94397.333333</td>\n",
       "      <td>Ashley Chia</td>\n",
       "      <td>283192</td>\n",
       "      <td>3</td>\n",
       "      <td>clj.ashley@gmail.com</td>\n",
       "    </tr>\n",
       "    <tr>\n",
       "      <th>2</th>\n",
       "      <td>32515.000000</td>\n",
       "      <td>Christopher Ng</td>\n",
       "      <td>130060</td>\n",
       "      <td>4</td>\n",
       "      <td>jasmine.chan@orangetee.com</td>\n",
       "    </tr>\n",
       "  </tbody>\n",
       "</table>\n",
       "</div>"
      ],
      "text/plain": [
       "        avg_res            name  res_sec  convo_no                       email\n",
       "0    309.000000        Alan Yap      309         1          alanyap7@gmail.com\n",
       "1  94397.333333     Ashley Chia   283192         3        clj.ashley@gmail.com\n",
       "2  32515.000000  Christopher Ng   130060         4  jasmine.chan@orangetee.com"
      ]
     },
     "execution_count": 48,
     "metadata": {},
     "output_type": "execute_result"
    }
   ],
   "source": [
    "res.columns = ['avg_res','name','res_sec','convo_no','email']\n",
    "res.head(3)"
   ]
  },
  {
   "cell_type": "code",
   "execution_count": 49,
   "metadata": {},
   "outputs": [
    {
     "data": {
      "text/html": [
       "<div>\n",
       "<style>\n",
       "    .dataframe thead tr:only-child th {\n",
       "        text-align: right;\n",
       "    }\n",
       "\n",
       "    .dataframe thead th {\n",
       "        text-align: left;\n",
       "    }\n",
       "\n",
       "    .dataframe tbody tr th {\n",
       "        vertical-align: top;\n",
       "    }\n",
       "</style>\n",
       "<table border=\"1\" class=\"dataframe\">\n",
       "  <thead>\n",
       "    <tr style=\"text-align: right;\">\n",
       "      <th></th>\n",
       "      <th>avg_res</th>\n",
       "      <th>name</th>\n",
       "      <th>res_sec</th>\n",
       "      <th>convo_no</th>\n",
       "      <th>email</th>\n",
       "      <th>res_h</th>\n",
       "    </tr>\n",
       "  </thead>\n",
       "  <tbody>\n",
       "    <tr>\n",
       "      <th>3</th>\n",
       "      <td>59.5</td>\n",
       "      <td>Jack Teo</td>\n",
       "      <td>119</td>\n",
       "      <td>2</td>\n",
       "      <td>jackwtteo@yahoo.com.sg</td>\n",
       "      <td>0.016528</td>\n",
       "    </tr>\n",
       "    <tr>\n",
       "      <th>13</th>\n",
       "      <td>67028.5</td>\n",
       "      <td>Rennie Goh 吴蕊玲</td>\n",
       "      <td>134057</td>\n",
       "      <td>2</td>\n",
       "      <td>renniegoh_property@hotmail.com</td>\n",
       "      <td>18.619028</td>\n",
       "    </tr>\n",
       "    <tr>\n",
       "      <th>23</th>\n",
       "      <td>168358.5</td>\n",
       "      <td>Ginn Chia 谢佩玲</td>\n",
       "      <td>336717</td>\n",
       "      <td>2</td>\n",
       "      <td>ginnchia@gmail.com</td>\n",
       "      <td>46.766250</td>\n",
       "    </tr>\n",
       "  </tbody>\n",
       "</table>\n",
       "</div>"
      ],
      "text/plain": [
       "     avg_res            name  res_sec  convo_no  \\\n",
       "3       59.5        Jack Teo      119         2   \n",
       "13   67028.5  Rennie Goh 吴蕊玲   134057         2   \n",
       "23  168358.5   Ginn Chia 谢佩玲   336717         2   \n",
       "\n",
       "                             email      res_h  \n",
       "3           jackwtteo@yahoo.com.sg   0.016528  \n",
       "13  renniegoh_property@hotmail.com  18.619028  \n",
       "23              ginnchia@gmail.com  46.766250  "
      ]
     },
     "execution_count": 49,
     "metadata": {},
     "output_type": "execute_result"
    }
   ],
   "source": [
    "res['res_h'] = res['res_sec'].div(3600) / res['convo_no']\n",
    "res[res['convo_no']==2].head(3)"
   ]
  },
  {
   "cell_type": "code",
   "execution_count": 50,
   "metadata": {},
   "outputs": [
    {
     "data": {
      "text/html": [
       "<div>\n",
       "<style>\n",
       "    .dataframe thead tr:only-child th {\n",
       "        text-align: right;\n",
       "    }\n",
       "\n",
       "    .dataframe thead th {\n",
       "        text-align: left;\n",
       "    }\n",
       "\n",
       "    .dataframe tbody tr th {\n",
       "        vertical-align: top;\n",
       "    }\n",
       "</style>\n",
       "<table border=\"1\" class=\"dataframe\">\n",
       "  <thead>\n",
       "    <tr style=\"text-align: right;\">\n",
       "      <th></th>\n",
       "      <th>avg_res</th>\n",
       "      <th>res_sec</th>\n",
       "      <th>convo_no</th>\n",
       "      <th>res_h</th>\n",
       "    </tr>\n",
       "  </thead>\n",
       "  <tbody>\n",
       "    <tr>\n",
       "      <th>count</th>\n",
       "      <td>718.000000</td>\n",
       "      <td>718.000000</td>\n",
       "      <td>718.000000</td>\n",
       "      <td>718.000000</td>\n",
       "    </tr>\n",
       "    <tr>\n",
       "      <th>mean</th>\n",
       "      <td>53265.785956</td>\n",
       "      <td>73737.681058</td>\n",
       "      <td>1.346797</td>\n",
       "      <td>14.796052</td>\n",
       "    </tr>\n",
       "    <tr>\n",
       "      <th>std</th>\n",
       "      <td>70667.681124</td>\n",
       "      <td>111606.654813</td>\n",
       "      <td>0.736238</td>\n",
       "      <td>19.629911</td>\n",
       "    </tr>\n",
       "    <tr>\n",
       "      <th>min</th>\n",
       "      <td>8.000000</td>\n",
       "      <td>8.000000</td>\n",
       "      <td>1.000000</td>\n",
       "      <td>0.002222</td>\n",
       "    </tr>\n",
       "    <tr>\n",
       "      <th>25%</th>\n",
       "      <td>2530.750000</td>\n",
       "      <td>2819.750000</td>\n",
       "      <td>1.000000</td>\n",
       "      <td>0.702986</td>\n",
       "    </tr>\n",
       "    <tr>\n",
       "      <th>50%</th>\n",
       "      <td>22758.375000</td>\n",
       "      <td>28464.500000</td>\n",
       "      <td>1.000000</td>\n",
       "      <td>6.321771</td>\n",
       "    </tr>\n",
       "    <tr>\n",
       "      <th>75%</th>\n",
       "      <td>75782.750000</td>\n",
       "      <td>94858.500000</td>\n",
       "      <td>1.000000</td>\n",
       "      <td>21.050764</td>\n",
       "    </tr>\n",
       "    <tr>\n",
       "      <th>max</th>\n",
       "      <td>363111.000000</td>\n",
       "      <td>926430.000000</td>\n",
       "      <td>5.000000</td>\n",
       "      <td>100.864167</td>\n",
       "    </tr>\n",
       "  </tbody>\n",
       "</table>\n",
       "</div>"
      ],
      "text/plain": [
       "             avg_res        res_sec    convo_no       res_h\n",
       "count     718.000000     718.000000  718.000000  718.000000\n",
       "mean    53265.785956   73737.681058    1.346797   14.796052\n",
       "std     70667.681124  111606.654813    0.736238   19.629911\n",
       "min         8.000000       8.000000    1.000000    0.002222\n",
       "25%      2530.750000    2819.750000    1.000000    0.702986\n",
       "50%     22758.375000   28464.500000    1.000000    6.321771\n",
       "75%     75782.750000   94858.500000    1.000000   21.050764\n",
       "max    363111.000000  926430.000000    5.000000  100.864167"
      ]
     },
     "execution_count": 50,
     "metadata": {},
     "output_type": "execute_result"
    }
   ],
   "source": [
    "res.describe()"
   ]
  },
  {
   "cell_type": "code",
   "execution_count": 370,
   "metadata": {},
   "outputs": [
    {
     "data": {
      "text/plain": [
       "6.321770833333334"
      ]
     },
     "execution_count": 370,
     "metadata": {},
     "output_type": "execute_result"
    }
   ],
   "source": [
    "res['res_h'].median()"
   ]
  },
  {
   "cell_type": "code",
   "execution_count": 54,
   "metadata": {},
   "outputs": [
    {
     "data": {
      "text/html": [
       "<div>\n",
       "<style>\n",
       "    .dataframe thead tr:only-child th {\n",
       "        text-align: right;\n",
       "    }\n",
       "\n",
       "    .dataframe thead th {\n",
       "        text-align: left;\n",
       "    }\n",
       "\n",
       "    .dataframe tbody tr th {\n",
       "        vertical-align: top;\n",
       "    }\n",
       "</style>\n",
       "<table border=\"1\" class=\"dataframe\">\n",
       "  <thead>\n",
       "    <tr style=\"text-align: right;\">\n",
       "      <th></th>\n",
       "      <th>avg_res</th>\n",
       "      <th>name</th>\n",
       "      <th>res_sec</th>\n",
       "      <th>convo_no</th>\n",
       "      <th>email</th>\n",
       "      <th>res_h</th>\n",
       "    </tr>\n",
       "  </thead>\n",
       "  <tbody>\n",
       "  </tbody>\n",
       "</table>\n",
       "</div>"
      ],
      "text/plain": [
       "Empty DataFrame\n",
       "Columns: [avg_res, name, res_sec, convo_no, email, res_h]\n",
       "Index: []"
      ]
     },
     "execution_count": 54,
     "metadata": {},
     "output_type": "execute_result"
    }
   ],
   "source": [
    "res[res['email']=='sweesiongaw@gmail.com']"
   ]
  },
  {
   "cell_type": "code",
   "execution_count": 250,
   "metadata": {},
   "outputs": [
    {
     "data": {
      "text/plain": [
       "<seaborn.axisgrid.FacetGrid at 0x26565f41dd8>"
      ]
     },
     "execution_count": 250,
     "metadata": {},
     "output_type": "execute_result"
    },
    {
     "data": {
      "image/png": "[encoded data removed]",
      "text/plain": [
       "<matplotlib.figure.Figure at 0x26564796400>"
      ]
     },
     "metadata": {},
     "output_type": "display_data"
    }
   ],
   "source": [
    "sns.set_style('white')\n",
    "g = sns.FacetGrid(data=res, col='convo_no',size=3, aspect=1)\n",
    "g.map(plt.hist, 'res_h', bins=30)"
   ]
  },
  {
   "cell_type": "code",
   "execution_count": 251,
   "metadata": {},
   "outputs": [
    {
     "data": {
      "text/html": [
       "<div>\n",
       "<style>\n",
       "    .dataframe thead tr:only-child th {\n",
       "        text-align: right;\n",
       "    }\n",
       "\n",
       "    .dataframe thead th {\n",
       "        text-align: left;\n",
       "    }\n",
       "\n",
       "    .dataframe tbody tr th {\n",
       "        vertical-align: top;\n",
       "    }\n",
       "</style>\n",
       "<table border=\"1\" class=\"dataframe\">\n",
       "  <thead>\n",
       "    <tr style=\"text-align: right;\">\n",
       "      <th></th>\n",
       "      <th>name</th>\n",
       "      <th>convo_no</th>\n",
       "      <th>email</th>\n",
       "      <th>res_h</th>\n",
       "    </tr>\n",
       "  </thead>\n",
       "  <tbody>\n",
       "    <tr>\n",
       "      <th>5</th>\n",
       "      <td>Gerald Chan</td>\n",
       "      <td>5</td>\n",
       "      <td>gerald.outofthebox@gmail.com</td>\n",
       "      <td>11.198278</td>\n",
       "    </tr>\n",
       "    <tr>\n",
       "      <th>78</th>\n",
       "      <td>Alan Tsui 徐先生</td>\n",
       "      <td>5</td>\n",
       "      <td>alan1tsui@yahoo.com.sg</td>\n",
       "      <td>0.842333</td>\n",
       "    </tr>\n",
       "    <tr>\n",
       "      <th>96</th>\n",
       "      <td>Chris Koh</td>\n",
       "      <td>5</td>\n",
       "      <td>chriskohkk@gmail.com</td>\n",
       "      <td>25.944556</td>\n",
       "    </tr>\n",
       "    <tr>\n",
       "      <th>582</th>\n",
       "      <td>Bernard Teo</td>\n",
       "      <td>5</td>\n",
       "      <td>Bernardteo.era@gmail.com</td>\n",
       "      <td>0.015333</td>\n",
       "    </tr>\n",
       "    <tr>\n",
       "      <th>594</th>\n",
       "      <td>Desmond Liu</td>\n",
       "      <td>5</td>\n",
       "      <td>desmondliu.era@gmail.com</td>\n",
       "      <td>5.297389</td>\n",
       "    </tr>\n",
       "  </tbody>\n",
       "</table>\n",
       "</div>"
      ],
      "text/plain": [
       "              name  convo_no                         email      res_h\n",
       "5      Gerald Chan         5  gerald.outofthebox@gmail.com  11.198278\n",
       "78   Alan Tsui 徐先生         5        alan1tsui@yahoo.com.sg   0.842333\n",
       "96       Chris Koh         5          chriskohkk@gmail.com  25.944556\n",
       "582    Bernard Teo         5      Bernardteo.era@gmail.com   0.015333\n",
       "594    Desmond Liu         5      desmondliu.era@gmail.com   5.297389"
      ]
     },
     "execution_count": 251,
     "metadata": {},
     "output_type": "execute_result"
    }
   ],
   "source": [
    "convo5 = res[res['convo_no']==5][['name','convo_no','email','res_h']]\n",
    "convo5"
   ]
  },
  {
   "cell_type": "code",
   "execution_count": 371,
   "metadata": {},
   "outputs": [
    {
     "data": {
      "text/plain": [
       "8.659577777777777"
      ]
     },
     "execution_count": 371,
     "metadata": {},
     "output_type": "execute_result"
    }
   ],
   "source": [
    "convo5['res_h'].mean()"
   ]
  },
  {
   "cell_type": "code",
   "execution_count": 372,
   "metadata": {},
   "outputs": [
    {
     "data": {
      "text/plain": [
       "convo_no\n",
       "1    14.475467\n",
       "2    14.793452\n",
       "3    17.923764\n",
       "4    21.102741\n",
       "5     8.659578\n",
       "Name: res_h, dtype: float64"
      ]
     },
     "execution_count": 372,
     "metadata": {},
     "output_type": "execute_result"
    }
   ],
   "source": [
    "res.groupby('convo_no')['res_h'].mean()"
   ]
  },
  {
   "cell_type": "code",
   "execution_count": 373,
   "metadata": {},
   "outputs": [
    {
     "data": {
      "text/plain": [
       "<seaborn.axisgrid.FacetGrid at 0x2656a48c390>"
      ]
     },
     "execution_count": 373,
     "metadata": {},
     "output_type": "execute_result"
    },
    {
     "data": {
      "image/png": "[encoded data removed]",
      "text/plain": [
       "<matplotlib.figure.Figure at 0x2656a48cef0>"
      ]
     },
     "metadata": {},
     "output_type": "display_data"
    }
   ],
   "source": [
    "g = sns.FacetGrid(data=res, size=4, aspect=2)\n",
    "g.map(plt.hist, 'res_h', bins=40)"
   ]
  },
  {
   "cell_type": "code",
   "execution_count": 110,
   "metadata": {},
   "outputs": [
    {
     "data": {
      "text/plain": [
       "<matplotlib.axes._subplots.AxesSubplot at 0x265608e4828>"
      ]
     },
     "execution_count": 110,
     "metadata": {},
     "output_type": "execute_result"
    },
    {
     "data": {
      "image/png": "[encoded data removed]",
      "text/plain": [
       "<matplotlib.figure.Figure at 0x265640c4390>"
      ]
     },
     "metadata": {},
     "output_type": "display_data"
    }
   ],
   "source": [
    "sns.boxplot(data=res,y='res_h')"
   ]
  },
  {
   "cell_type": "code",
   "execution_count": 375,
   "metadata": {},
   "outputs": [
    {
     "data": {
      "text/plain": [
       "<matplotlib.axes._subplots.AxesSubplot at 0x26569dc7e80>"
      ]
     },
     "execution_count": 375,
     "metadata": {},
     "output_type": "execute_result"
    },
    {
     "data": {
      "image/png": "[encoded data removed]",
      "text/plain": [
       "<matplotlib.figure.Figure at 0x26569d8ec88>"
      ]
     },
     "metadata": {},
     "output_type": "display_data"
    }
   ],
   "source": [
    "plt.figure(figsize=(12,5))\n",
    "sns.boxplot(data=res, x='convo_no',y='res_h',palette='rainbow')"
   ]
  },
  {
   "cell_type": "code",
   "execution_count": 97,
   "metadata": {},
   "outputs": [
    {
     "data": {
      "text/plain": [
       "36.350974930362121"
      ]
     },
     "execution_count": 97,
     "metadata": {},
     "output_type": "execute_result"
    }
   ],
   "source": [
    "res[res['res_h'] <= 2]['res_h'].count() / res['res_h'].count()*100"
   ]
  },
  {
   "cell_type": "code",
   "execution_count": 98,
   "metadata": {},
   "outputs": [
    {
     "data": {
      "text/plain": [
       "78.272980501392752"
      ]
     },
     "execution_count": 98,
     "metadata": {},
     "output_type": "execute_result"
    }
   ],
   "source": [
    "res[res['res_h'] <= 24]['res_h'].count() / res['res_h'].count()*100"
   ]
  },
  {
   "cell_type": "code",
   "execution_count": 99,
   "metadata": {},
   "outputs": [
    {
     "data": {
      "text/plain": [
       "0.077994428969359333"
      ]
     },
     "execution_count": 99,
     "metadata": {},
     "output_type": "execute_result"
    }
   ],
   "source": [
    "res[res['res_h']>48]['res_h'].count() / res['res_h'].count()"
   ]
  },
  {
   "cell_type": "code",
   "execution_count": 100,
   "metadata": {},
   "outputs": [
    {
     "data": {
      "text/plain": [
       "avg_res                        363111\n",
       "name                        Lily Wang\n",
       "res_sec                        363111\n",
       "convo_no                            1\n",
       "email       lilylijun2000@hotmail.com\n",
       "res_h                         100.864\n",
       "Name: 402, dtype: object"
      ]
     },
     "execution_count": 100,
     "metadata": {},
     "output_type": "execute_result"
    }
   ],
   "source": [
    "res.iloc[res['res_h'].idxmax(),:]"
   ]
  },
  {
   "cell_type": "code",
   "execution_count": 101,
   "metadata": {},
   "outputs": [
    {
     "data": {
      "text/plain": [
       "avg_res                              8\n",
       "name                      Raymond Tung\n",
       "res_sec                              8\n",
       "convo_no                             1\n",
       "email       raymond.tung.era@gmail.com\n",
       "res_h                       0.00222222\n",
       "Name: 253, dtype: object"
      ]
     },
     "execution_count": 101,
     "metadata": {},
     "output_type": "execute_result"
    }
   ],
   "source": [
    "res.iloc[res['res_h'].idxmin(),:]"
   ]
  },
  {
   "cell_type": "markdown",
   "metadata": {},
   "source": [
    "# Export Data"
   ]
  },
  {
   "cell_type": "code",
   "execution_count": 102,
   "metadata": {
    "collapsed": true
   },
   "outputs": [],
   "source": [
    "more_than_24 = res[res['res_h'] > 24][['email','res_h']]\n",
    "more_than_24.to_csv('more_than_24.csv',sep=',',index=False)"
   ]
  },
  {
   "cell_type": "code",
   "execution_count": 103,
   "metadata": {
    "collapsed": true
   },
   "outputs": [],
   "source": [
    "no_response = convo[convo['replied']==0][['email','name']]\n",
    "no_response.to_csv('no_response.csv',sep=',',index=False)"
   ]
  },
  {
   "cell_type": "code",
   "execution_count": 123,
   "metadata": {
    "collapsed": true
   },
   "outputs": [],
   "source": [
    "within_2h = res[res['res_h'] <=2][['name','email','res_h']]\n",
    "within_2h.to_csv('within_2h.csv',sep=',',index=False)"
   ]
  }
 ],
 "metadata": {
  "kernelspec": {
   "display_name": "Python 3",
   "language": "python",
   "name": "python3"
  },
  "language_info": {
   "codemirror_mode": {
    "name": "ipython",
    "version": 3
   },
   "file_extension": ".py",
   "mimetype": "text/x-python",
   "name": "python",
   "nbconvert_exporter": "python",
   "pygments_lexer": "ipython3",
   "version": "3.6.3"
  }
 },
 "nbformat": 4,
 "nbformat_minor": 2
}
