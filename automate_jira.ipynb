{
 "cells": [
  {
   "cell_type": "code",
   "execution_count": 14,
   "metadata": {
    "collapsed": false
   },
   "outputs": [
    {
     "name": "stdout",
     "output_type": "stream",
     "text": [
      "0\n"
     ]
    }
   ],
   "source": [
    "import requests\n",
    "url = \"https://propertyguru.atlassian.net/rest/api/2/issue\"\n",
    "\n",
    "ac = \"{\\\"fields\\\":{\\\"project\\\":{\\\"key\\\": \\\"MOB\\\"},\\\"summary\\\":\\\"AC - Submission\\\",\\\"description\\\":\\\"Release app version \\\\n for \\\\n including \\\\n JIRA ticket number\\\",\\\"issuetype\\\":{\\\"name\\\":\\\"Story\\\"},\\\"components\\\":[{\\\"name\\\":\\\"AC\\\"}],\\\"customfield_10702\\\":5,\\\"customfield_10301\\\": [{\\\"value\\\": \\\"Android\\\"}],\\\"customfield_10900\\\":[{\\\"value\\\": \\\"Technology\\\"},{\\\"value\\\": \\\"Product\\\"}],\\\"customfield_10190\\\":[{\\\"value\\\": \\\"All\\\"}]}}\\n\"\n",
    "aa = \"{\\\"fields\\\":{\\\"project\\\":{\\\"key\\\": \\\"MOB\\\"},\\\"summary\\\":\\\"AA - Submission\\\",\\\"description\\\":\\\"Release app version \\\\n for \\\\n including \\\\n JIRA ticket number\\\",\\\"issuetype\\\":{\\\"name\\\":\\\"Story\\\"},\\\"components\\\":[{\\\"name\\\":\\\"AA\\\"}],\\\"customfield_10702\\\":5,\\\"customfield_10301\\\": [{\\\"value\\\": \\\"Android\\\"}],\\\"customfield_10900\\\":[{\\\"value\\\": \\\"Technology\\\"},{\\\"value\\\": \\\"Product\\\"}],\\\"customfield_10190\\\":[{\\\"value\\\": \\\"All\\\"}]}}\\n\"\n",
    "ic = \"{\\\"fields\\\":{\\\"project\\\":{\\\"key\\\": \\\"MOB\\\"},\\\"summary\\\":\\\"IC - Submission\\\",\\\"description\\\":\\\"Release app version \\\\n for \\\\n including \\\\n JIRA ticket number\\\",\\\"issuetype\\\":{\\\"name\\\":\\\"Story\\\"},\\\"components\\\":[{\\\"name\\\":\\\"IC\\\"}],\\\"customfield_10702\\\":5,\\\"customfield_10301\\\": [{\\\"value\\\": \\\"iOS\\\"}],\\\"customfield_10900\\\":[{\\\"value\\\": \\\"Technology\\\"},{\\\"value\\\": \\\"Product\\\"}],\\\"customfield_10190\\\":[{\\\"value\\\": \\\"All\\\"}]}}\\n\"\n",
    "ia = \"{\\\"fields\\\":{\\\"project\\\":{\\\"key\\\": \\\"MOB\\\"},\\\"summary\\\":\\\"IA - Submission\\\",\\\"description\\\":\\\"Release app version \\\\n for \\\\n including \\\\n JIRA ticket number\\\",\\\"issuetype\\\":{\\\"name\\\":\\\"Story\\\"},\\\"components\\\":[{\\\"name\\\":\\\"IA\\\"}],\\\"customfield_10702\\\":5,\\\"customfield_10301\\\": [{\\\"value\\\": \\\"iOS\\\"}],\\\"customfield_10900\\\":[{\\\"value\\\": \\\"Technology\\\"},{\\\"value\\\": \\\"Product\\\"}],\\\"customfield_10190\\\":[{\\\"value\\\": \\\"All\\\"}]}}\\n\"\n",
    "\n",
    "payload = [ac, aa, ic, ia]\n",
    "\n",
    "headers = {\n",
    "    'authorization': \"Basic 'user:password in base64' \",\n",
    "    'content-type': \"application/json\",\n",
    "    'cache-control': \"no-cache\",\n",
    "    }\n",
    "\n",
    "for item in payload:\n",
    "    response = requests.request(\"POST\", url, data=item, headers=headers)       "
   ]
  },
  {
   "cell_type": "code",
   "execution_count": null,
   "metadata": {
    "collapsed": true
   },
   "outputs": [],
   "source": []
  }
 ],
 "metadata": {
  "kernelspec": {
   "display_name": "Python 3",
   "language": "python",
   "name": "python3"
  },
  "language_info": {
   "codemirror_mode": {
    "name": "ipython",
    "version": 3
   },
   "file_extension": ".py",
   "mimetype": "text/x-python",
   "name": "python",
   "nbconvert_exporter": "python",
   "pygments_lexer": "ipython3",
   "version": "3.5.2"
  }
 },
 "nbformat": 4,
 "nbformat_minor": 2
}
